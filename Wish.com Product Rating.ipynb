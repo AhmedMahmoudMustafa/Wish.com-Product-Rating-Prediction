{
 "cells": [
  {
   "cell_type": "code",
   "execution_count": 377,
   "id": "5b9385a2",
   "metadata": {},
   "outputs": [],
   "source": [
    "#importing the libraries \n",
    "import pandas as pd\n",
    "import numpy as np \n",
    "import matplotlib.pyplot as plt \n",
    "import os\n",
    "import seaborn as sns"
   ]
  },
  {
   "cell_type": "code",
   "execution_count": 378,
   "id": "c281f5cb",
   "metadata": {},
   "outputs": [],
   "source": [
    "f = open(r'C:\\\\Users\\Ahmed Mahmoud\\Downloads\\cisc-873-dm-w23-a1\\train_new.csv', 'r')"
   ]
  },
  {
   "cell_type": "code",
   "execution_count": 379,
   "id": "e41d385c",
   "metadata": {},
   "outputs": [
    {
     "data": {
      "text/html": [
       "<div>\n",
       "<style scoped>\n",
       "    .dataframe tbody tr th:only-of-type {\n",
       "        vertical-align: middle;\n",
       "    }\n",
       "\n",
       "    .dataframe tbody tr th {\n",
       "        vertical-align: top;\n",
       "    }\n",
       "\n",
       "    .dataframe thead th {\n",
       "        text-align: right;\n",
       "    }\n",
       "</style>\n",
       "<table border=\"1\" class=\"dataframe\">\n",
       "  <thead>\n",
       "    <tr style=\"text-align: right;\">\n",
       "      <th></th>\n",
       "      <th>price</th>\n",
       "      <th>retail_price</th>\n",
       "      <th>currency_buyer</th>\n",
       "      <th>units_sold</th>\n",
       "      <th>uses_ad_boosts</th>\n",
       "      <th>rating</th>\n",
       "      <th>rating_count</th>\n",
       "      <th>badges_count</th>\n",
       "      <th>badge_local_product</th>\n",
       "      <th>badge_product_quality</th>\n",
       "      <th>...</th>\n",
       "      <th>merchant_name</th>\n",
       "      <th>merchant_info_subtitle</th>\n",
       "      <th>merchant_rating_count</th>\n",
       "      <th>merchant_rating</th>\n",
       "      <th>merchant_id</th>\n",
       "      <th>merchant_has_profile_picture</th>\n",
       "      <th>merchant_profile_picture</th>\n",
       "      <th>theme</th>\n",
       "      <th>crawl_month</th>\n",
       "      <th>id</th>\n",
       "    </tr>\n",
       "  </thead>\n",
       "  <tbody>\n",
       "    <tr>\n",
       "      <th>0</th>\n",
       "      <td>8.00</td>\n",
       "      <td>7</td>\n",
       "      <td>EUR</td>\n",
       "      <td>10000</td>\n",
       "      <td>1</td>\n",
       "      <td>4.0</td>\n",
       "      <td>1670</td>\n",
       "      <td>0</td>\n",
       "      <td>0</td>\n",
       "      <td>0</td>\n",
       "      <td>...</td>\n",
       "      <td>keepahorse</td>\n",
       "      <td>88 % avis positifs (66,644 notes)</td>\n",
       "      <td>66644</td>\n",
       "      <td>4.137582</td>\n",
       "      <td>577fb2b368116418674befd9</td>\n",
       "      <td>1</td>\n",
       "      <td>https://s3-us-west-1.amazonaws.com/sweeper-pro...</td>\n",
       "      <td>summer</td>\n",
       "      <td>2020-08</td>\n",
       "      <td>272</td>\n",
       "    </tr>\n",
       "    <tr>\n",
       "      <th>1</th>\n",
       "      <td>8.00</td>\n",
       "      <td>7</td>\n",
       "      <td>EUR</td>\n",
       "      <td>1000</td>\n",
       "      <td>0</td>\n",
       "      <td>4.0</td>\n",
       "      <td>843</td>\n",
       "      <td>1</td>\n",
       "      <td>1</td>\n",
       "      <td>0</td>\n",
       "      <td>...</td>\n",
       "      <td>上海铭启电气科技有限公司</td>\n",
       "      <td>91 % avis positifs (25,752 notes)</td>\n",
       "      <td>25752</td>\n",
       "      <td>4.256873</td>\n",
       "      <td>566a3ef17233ff2686443082</td>\n",
       "      <td>0</td>\n",
       "      <td>NaN</td>\n",
       "      <td>summer</td>\n",
       "      <td>2020-08</td>\n",
       "      <td>1515</td>\n",
       "    </tr>\n",
       "    <tr>\n",
       "      <th>2</th>\n",
       "      <td>6.00</td>\n",
       "      <td>34</td>\n",
       "      <td>EUR</td>\n",
       "      <td>100</td>\n",
       "      <td>0</td>\n",
       "      <td>4.0</td>\n",
       "      <td>10</td>\n",
       "      <td>0</td>\n",
       "      <td>0</td>\n",
       "      <td>0</td>\n",
       "      <td>...</td>\n",
       "      <td>zhaodongmei</td>\n",
       "      <td>83 % avis positifs (3,897 notes)</td>\n",
       "      <td>3897</td>\n",
       "      <td>3.928920</td>\n",
       "      <td>5aacd6c1ccf0c83e5a6f3de0</td>\n",
       "      <td>0</td>\n",
       "      <td>NaN</td>\n",
       "      <td>summer</td>\n",
       "      <td>2020-08</td>\n",
       "      <td>940</td>\n",
       "    </tr>\n",
       "    <tr>\n",
       "      <th>3</th>\n",
       "      <td>4.67</td>\n",
       "      <td>4</td>\n",
       "      <td>EUR</td>\n",
       "      <td>100</td>\n",
       "      <td>1</td>\n",
       "      <td>3.0</td>\n",
       "      <td>82</td>\n",
       "      <td>0</td>\n",
       "      <td>0</td>\n",
       "      <td>0</td>\n",
       "      <td>...</td>\n",
       "      <td>pookie0331</td>\n",
       "      <td>87 % avis positifs (7,497 notes)</td>\n",
       "      <td>7497</td>\n",
       "      <td>4.079365</td>\n",
       "      <td>583141fbfef4094e51453d9b</td>\n",
       "      <td>0</td>\n",
       "      <td>NaN</td>\n",
       "      <td>summer</td>\n",
       "      <td>2020-08</td>\n",
       "      <td>309</td>\n",
       "    </tr>\n",
       "    <tr>\n",
       "      <th>4</th>\n",
       "      <td>8.00</td>\n",
       "      <td>11</td>\n",
       "      <td>EUR</td>\n",
       "      <td>1000</td>\n",
       "      <td>0</td>\n",
       "      <td>4.0</td>\n",
       "      <td>127</td>\n",
       "      <td>0</td>\n",
       "      <td>0</td>\n",
       "      <td>0</td>\n",
       "      <td>...</td>\n",
       "      <td>shitongyi12683626</td>\n",
       "      <td>91 % avis positifs (173 notes)</td>\n",
       "      <td>173</td>\n",
       "      <td>4.306358</td>\n",
       "      <td>5d3bc9f8e13a7e654424a4cb</td>\n",
       "      <td>0</td>\n",
       "      <td>NaN</td>\n",
       "      <td>summer</td>\n",
       "      <td>2020-08</td>\n",
       "      <td>226</td>\n",
       "    </tr>\n",
       "  </tbody>\n",
       "</table>\n",
       "<p>5 rows × 34 columns</p>\n",
       "</div>"
      ],
      "text/plain": [
       "   price  retail_price currency_buyer  units_sold  uses_ad_boosts  rating  \\\n",
       "0   8.00             7            EUR       10000               1     4.0   \n",
       "1   8.00             7            EUR        1000               0     4.0   \n",
       "2   6.00            34            EUR         100               0     4.0   \n",
       "3   4.67             4            EUR         100               1     3.0   \n",
       "4   8.00            11            EUR        1000               0     4.0   \n",
       "\n",
       "   rating_count  badges_count  badge_local_product  badge_product_quality  \\\n",
       "0          1670             0                    0                      0   \n",
       "1           843             1                    1                      0   \n",
       "2            10             0                    0                      0   \n",
       "3            82             0                    0                      0   \n",
       "4           127             0                    0                      0   \n",
       "\n",
       "   ...      merchant_name             merchant_info_subtitle  \\\n",
       "0  ...         keepahorse  88 % avis positifs (66,644 notes)   \n",
       "1  ...       上海铭启电气科技有限公司  91 % avis positifs (25,752 notes)   \n",
       "2  ...        zhaodongmei   83 % avis positifs (3,897 notes)   \n",
       "3  ...         pookie0331   87 % avis positifs (7,497 notes)   \n",
       "4  ...  shitongyi12683626     91 % avis positifs (173 notes)   \n",
       "\n",
       "  merchant_rating_count merchant_rating               merchant_id  \\\n",
       "0                 66644        4.137582  577fb2b368116418674befd9   \n",
       "1                 25752        4.256873  566a3ef17233ff2686443082   \n",
       "2                  3897        3.928920  5aacd6c1ccf0c83e5a6f3de0   \n",
       "3                  7497        4.079365  583141fbfef4094e51453d9b   \n",
       "4                   173        4.306358  5d3bc9f8e13a7e654424a4cb   \n",
       "\n",
       "  merchant_has_profile_picture  \\\n",
       "0                            1   \n",
       "1                            0   \n",
       "2                            0   \n",
       "3                            0   \n",
       "4                            0   \n",
       "\n",
       "                            merchant_profile_picture   theme  crawl_month  \\\n",
       "0  https://s3-us-west-1.amazonaws.com/sweeper-pro...  summer      2020-08   \n",
       "1                                                NaN  summer      2020-08   \n",
       "2                                                NaN  summer      2020-08   \n",
       "3                                                NaN  summer      2020-08   \n",
       "4                                                NaN  summer      2020-08   \n",
       "\n",
       "     id  \n",
       "0   272  \n",
       "1  1515  \n",
       "2   940  \n",
       "3   309  \n",
       "4   226  \n",
       "\n",
       "[5 rows x 34 columns]"
      ]
     },
     "execution_count": 379,
     "metadata": {},
     "output_type": "execute_result"
    }
   ],
   "source": [
    "#loading the training data\n",
    "df = pd.read_csv(\"C:\\\\\\\\Users\\\\Ahmed Mahmoud\\\\Downloads\\\\cisc-873-dm-w23-a1\\\\train_new.csv\")\n",
    "df.head()"
   ]
  },
  {
   "cell_type": "code",
   "execution_count": 380,
   "id": "239fdd76",
   "metadata": {},
   "outputs": [
    {
     "data": {
      "text/html": [
       "<div>\n",
       "<style scoped>\n",
       "    .dataframe tbody tr th:only-of-type {\n",
       "        vertical-align: middle;\n",
       "    }\n",
       "\n",
       "    .dataframe tbody tr th {\n",
       "        vertical-align: top;\n",
       "    }\n",
       "\n",
       "    .dataframe thead th {\n",
       "        text-align: right;\n",
       "    }\n",
       "</style>\n",
       "<table border=\"1\" class=\"dataframe\">\n",
       "  <thead>\n",
       "    <tr style=\"text-align: right;\">\n",
       "      <th></th>\n",
       "      <th>price</th>\n",
       "      <th>retail_price</th>\n",
       "      <th>currency_buyer</th>\n",
       "      <th>units_sold</th>\n",
       "      <th>uses_ad_boosts</th>\n",
       "      <th>rating_count</th>\n",
       "      <th>badges_count</th>\n",
       "      <th>badge_local_product</th>\n",
       "      <th>badge_product_quality</th>\n",
       "      <th>badge_fast_shipping</th>\n",
       "      <th>...</th>\n",
       "      <th>merchant_name</th>\n",
       "      <th>merchant_info_subtitle</th>\n",
       "      <th>merchant_rating_count</th>\n",
       "      <th>merchant_rating</th>\n",
       "      <th>merchant_id</th>\n",
       "      <th>merchant_has_profile_picture</th>\n",
       "      <th>merchant_profile_picture</th>\n",
       "      <th>theme</th>\n",
       "      <th>crawl_month</th>\n",
       "      <th>id</th>\n",
       "    </tr>\n",
       "  </thead>\n",
       "  <tbody>\n",
       "    <tr>\n",
       "      <th>0</th>\n",
       "      <td>5.75</td>\n",
       "      <td>5</td>\n",
       "      <td>EUR</td>\n",
       "      <td>10</td>\n",
       "      <td>1</td>\n",
       "      <td>0</td>\n",
       "      <td>0</td>\n",
       "      <td>0</td>\n",
       "      <td>0</td>\n",
       "      <td>0</td>\n",
       "      <td>...</td>\n",
       "      <td>liyang163</td>\n",
       "      <td>33 % avis positifs (3 notes)</td>\n",
       "      <td>3</td>\n",
       "      <td>2.333333</td>\n",
       "      <td>5e63469b2fdc774466e15dd5</td>\n",
       "      <td>0</td>\n",
       "      <td>NaN</td>\n",
       "      <td>summer</td>\n",
       "      <td>2020-08</td>\n",
       "      <td>937</td>\n",
       "    </tr>\n",
       "    <tr>\n",
       "      <th>1</th>\n",
       "      <td>7.00</td>\n",
       "      <td>7</td>\n",
       "      <td>EUR</td>\n",
       "      <td>5000</td>\n",
       "      <td>0</td>\n",
       "      <td>579</td>\n",
       "      <td>0</td>\n",
       "      <td>0</td>\n",
       "      <td>0</td>\n",
       "      <td>0</td>\n",
       "      <td>...</td>\n",
       "      <td>singingthesong</td>\n",
       "      <td>86 % avis positifs (4,213 notes)</td>\n",
       "      <td>4213</td>\n",
       "      <td>4.058391</td>\n",
       "      <td>583547f417dc6224cb464117</td>\n",
       "      <td>0</td>\n",
       "      <td>NaN</td>\n",
       "      <td>summer</td>\n",
       "      <td>2020-08</td>\n",
       "      <td>270</td>\n",
       "    </tr>\n",
       "    <tr>\n",
       "      <th>2</th>\n",
       "      <td>5.00</td>\n",
       "      <td>16</td>\n",
       "      <td>EUR</td>\n",
       "      <td>1000</td>\n",
       "      <td>1</td>\n",
       "      <td>62</td>\n",
       "      <td>0</td>\n",
       "      <td>0</td>\n",
       "      <td>0</td>\n",
       "      <td>0</td>\n",
       "      <td>...</td>\n",
       "      <td>surperboutique</td>\n",
       "      <td>85 % avis positifs (10,501 notes)</td>\n",
       "      <td>10501</td>\n",
       "      <td>4.029235</td>\n",
       "      <td>57086fd7fa6bee434d0e5852</td>\n",
       "      <td>0</td>\n",
       "      <td>NaN</td>\n",
       "      <td>summer</td>\n",
       "      <td>2020-08</td>\n",
       "      <td>308</td>\n",
       "    </tr>\n",
       "    <tr>\n",
       "      <th>3</th>\n",
       "      <td>18.00</td>\n",
       "      <td>27</td>\n",
       "      <td>EUR</td>\n",
       "      <td>5000</td>\n",
       "      <td>1</td>\n",
       "      <td>1903</td>\n",
       "      <td>0</td>\n",
       "      <td>0</td>\n",
       "      <td>0</td>\n",
       "      <td>0</td>\n",
       "      <td>...</td>\n",
       "      <td>postonny</td>\n",
       "      <td>86 % avis positifs (15,855 notes)</td>\n",
       "      <td>15855</td>\n",
       "      <td>4.052917</td>\n",
       "      <td>5a17b55d1f4d8c4f0b44b0ce</td>\n",
       "      <td>0</td>\n",
       "      <td>NaN</td>\n",
       "      <td>summer</td>\n",
       "      <td>2020-08</td>\n",
       "      <td>913</td>\n",
       "    </tr>\n",
       "    <tr>\n",
       "      <th>4</th>\n",
       "      <td>12.00</td>\n",
       "      <td>81</td>\n",
       "      <td>EUR</td>\n",
       "      <td>20000</td>\n",
       "      <td>0</td>\n",
       "      <td>1799</td>\n",
       "      <td>0</td>\n",
       "      <td>0</td>\n",
       "      <td>0</td>\n",
       "      <td>0</td>\n",
       "      <td>...</td>\n",
       "      <td>guangzhouchanny</td>\n",
       "      <td>88 % avis positifs (151,914 notes)</td>\n",
       "      <td>151914</td>\n",
       "      <td>4.127921</td>\n",
       "      <td>53aa664438d3046ee44a5024</td>\n",
       "      <td>0</td>\n",
       "      <td>NaN</td>\n",
       "      <td>summer</td>\n",
       "      <td>2020-08</td>\n",
       "      <td>403</td>\n",
       "    </tr>\n",
       "  </tbody>\n",
       "</table>\n",
       "<p>5 rows × 33 columns</p>\n",
       "</div>"
      ],
      "text/plain": [
       "   price  retail_price currency_buyer  units_sold  uses_ad_boosts  \\\n",
       "0   5.75             5            EUR          10               1   \n",
       "1   7.00             7            EUR        5000               0   \n",
       "2   5.00            16            EUR        1000               1   \n",
       "3  18.00            27            EUR        5000               1   \n",
       "4  12.00            81            EUR       20000               0   \n",
       "\n",
       "   rating_count  badges_count  badge_local_product  badge_product_quality  \\\n",
       "0             0             0                    0                      0   \n",
       "1           579             0                    0                      0   \n",
       "2            62             0                    0                      0   \n",
       "3          1903             0                    0                      0   \n",
       "4          1799             0                    0                      0   \n",
       "\n",
       "   badge_fast_shipping  ...    merchant_name  \\\n",
       "0                    0  ...        liyang163   \n",
       "1                    0  ...   singingthesong   \n",
       "2                    0  ...   surperboutique   \n",
       "3                    0  ...         postonny   \n",
       "4                    0  ...  guangzhouchanny   \n",
       "\n",
       "               merchant_info_subtitle merchant_rating_count  merchant_rating  \\\n",
       "0        33 % avis positifs (3 notes)                     3         2.333333   \n",
       "1    86 % avis positifs (4,213 notes)                  4213         4.058391   \n",
       "2   85 % avis positifs (10,501 notes)                 10501         4.029235   \n",
       "3   86 % avis positifs (15,855 notes)                 15855         4.052917   \n",
       "4  88 % avis positifs (151,914 notes)                151914         4.127921   \n",
       "\n",
       "                merchant_id  merchant_has_profile_picture  \\\n",
       "0  5e63469b2fdc774466e15dd5                             0   \n",
       "1  583547f417dc6224cb464117                             0   \n",
       "2  57086fd7fa6bee434d0e5852                             0   \n",
       "3  5a17b55d1f4d8c4f0b44b0ce                             0   \n",
       "4  53aa664438d3046ee44a5024                             0   \n",
       "\n",
       "   merchant_profile_picture   theme  crawl_month   id  \n",
       "0                       NaN  summer      2020-08  937  \n",
       "1                       NaN  summer      2020-08  270  \n",
       "2                       NaN  summer      2020-08  308  \n",
       "3                       NaN  summer      2020-08  913  \n",
       "4                       NaN  summer      2020-08  403  \n",
       "\n",
       "[5 rows x 33 columns]"
      ]
     },
     "execution_count": 380,
     "metadata": {},
     "output_type": "execute_result"
    }
   ],
   "source": [
    "##loading the testing data\n",
    "df1 = pd.read_csv(\"C:\\\\\\\\Users\\\\Ahmed Mahmoud\\\\Downloads\\\\cisc-873-dm-w23-a1\\\\test_new.csv\")\n",
    "df1.head()"
   ]
  },
  {
   "cell_type": "code",
   "execution_count": 381,
   "id": "cd635d0a",
   "metadata": {},
   "outputs": [
    {
     "data": {
      "text/html": [
       "<div>\n",
       "<style scoped>\n",
       "    .dataframe tbody tr th:only-of-type {\n",
       "        vertical-align: middle;\n",
       "    }\n",
       "\n",
       "    .dataframe tbody tr th {\n",
       "        vertical-align: top;\n",
       "    }\n",
       "\n",
       "    .dataframe thead th {\n",
       "        text-align: right;\n",
       "    }\n",
       "</style>\n",
       "<table border=\"1\" class=\"dataframe\">\n",
       "  <thead>\n",
       "    <tr style=\"text-align: right;\">\n",
       "      <th></th>\n",
       "      <th>price</th>\n",
       "      <th>retail_price</th>\n",
       "      <th>units_sold</th>\n",
       "      <th>uses_ad_boosts</th>\n",
       "      <th>rating</th>\n",
       "      <th>rating_count</th>\n",
       "      <th>badges_count</th>\n",
       "      <th>badge_local_product</th>\n",
       "      <th>badge_product_quality</th>\n",
       "      <th>badge_fast_shipping</th>\n",
       "      <th>product_variation_inventory</th>\n",
       "      <th>shipping_option_price</th>\n",
       "      <th>shipping_is_express</th>\n",
       "      <th>countries_shipped_to</th>\n",
       "      <th>inventory_total</th>\n",
       "      <th>has_urgency_banner</th>\n",
       "      <th>merchant_rating_count</th>\n",
       "      <th>merchant_rating</th>\n",
       "      <th>merchant_has_profile_picture</th>\n",
       "      <th>id</th>\n",
       "    </tr>\n",
       "  </thead>\n",
       "  <tbody>\n",
       "    <tr>\n",
       "      <th>count</th>\n",
       "      <td>1094.000000</td>\n",
       "      <td>1094.000000</td>\n",
       "      <td>1094.000000</td>\n",
       "      <td>1094.000000</td>\n",
       "      <td>1094.000000</td>\n",
       "      <td>1094.000000</td>\n",
       "      <td>1094.000000</td>\n",
       "      <td>1094.000000</td>\n",
       "      <td>1094.000000</td>\n",
       "      <td>1094.000000</td>\n",
       "      <td>1094.000000</td>\n",
       "      <td>1094.000000</td>\n",
       "      <td>1094.000000</td>\n",
       "      <td>1094.000000</td>\n",
       "      <td>1094.000000</td>\n",
       "      <td>349.0</td>\n",
       "      <td>1.094000e+03</td>\n",
       "      <td>1094.000000</td>\n",
       "      <td>1094.000000</td>\n",
       "      <td>1094.000000</td>\n",
       "    </tr>\n",
       "    <tr>\n",
       "      <th>mean</th>\n",
       "      <td>8.320786</td>\n",
       "      <td>23.712066</td>\n",
       "      <td>4518.661792</td>\n",
       "      <td>0.432358</td>\n",
       "      <td>4.006399</td>\n",
       "      <td>915.523766</td>\n",
       "      <td>0.114260</td>\n",
       "      <td>0.019196</td>\n",
       "      <td>0.083181</td>\n",
       "      <td>0.011883</td>\n",
       "      <td>32.807130</td>\n",
       "      <td>2.344607</td>\n",
       "      <td>0.002742</td>\n",
       "      <td>40.484461</td>\n",
       "      <td>49.849177</td>\n",
       "      <td>1.0</td>\n",
       "      <td>2.678399e+04</td>\n",
       "      <td>4.036191</td>\n",
       "      <td>0.155393</td>\n",
       "      <td>772.207495</td>\n",
       "    </tr>\n",
       "    <tr>\n",
       "      <th>std</th>\n",
       "      <td>4.027448</td>\n",
       "      <td>31.802661</td>\n",
       "      <td>9825.608568</td>\n",
       "      <td>0.495630</td>\n",
       "      <td>0.585706</td>\n",
       "      <td>2037.561158</td>\n",
       "      <td>0.348461</td>\n",
       "      <td>0.137275</td>\n",
       "      <td>0.276282</td>\n",
       "      <td>0.108409</td>\n",
       "      <td>21.454655</td>\n",
       "      <td>1.044781</td>\n",
       "      <td>0.052318</td>\n",
       "      <td>20.196229</td>\n",
       "      <td>2.480687</td>\n",
       "      <td>0.0</td>\n",
       "      <td>8.616171e+04</td>\n",
       "      <td>0.200397</td>\n",
       "      <td>0.362445</td>\n",
       "      <td>453.784430</td>\n",
       "    </tr>\n",
       "    <tr>\n",
       "      <th>min</th>\n",
       "      <td>1.000000</td>\n",
       "      <td>2.000000</td>\n",
       "      <td>1.000000</td>\n",
       "      <td>0.000000</td>\n",
       "      <td>1.000000</td>\n",
       "      <td>0.000000</td>\n",
       "      <td>0.000000</td>\n",
       "      <td>0.000000</td>\n",
       "      <td>0.000000</td>\n",
       "      <td>0.000000</td>\n",
       "      <td>1.000000</td>\n",
       "      <td>1.000000</td>\n",
       "      <td>0.000000</td>\n",
       "      <td>8.000000</td>\n",
       "      <td>1.000000</td>\n",
       "      <td>1.0</td>\n",
       "      <td>4.000000e+00</td>\n",
       "      <td>2.941176</td>\n",
       "      <td>0.000000</td>\n",
       "      <td>2.000000</td>\n",
       "    </tr>\n",
       "    <tr>\n",
       "      <th>25%</th>\n",
       "      <td>5.830000</td>\n",
       "      <td>7.000000</td>\n",
       "      <td>100.000000</td>\n",
       "      <td>0.000000</td>\n",
       "      <td>4.000000</td>\n",
       "      <td>24.000000</td>\n",
       "      <td>0.000000</td>\n",
       "      <td>0.000000</td>\n",
       "      <td>0.000000</td>\n",
       "      <td>0.000000</td>\n",
       "      <td>6.000000</td>\n",
       "      <td>2.000000</td>\n",
       "      <td>0.000000</td>\n",
       "      <td>31.000000</td>\n",
       "      <td>50.000000</td>\n",
       "      <td>1.0</td>\n",
       "      <td>1.926000e+03</td>\n",
       "      <td>3.918464</td>\n",
       "      <td>0.000000</td>\n",
       "      <td>382.250000</td>\n",
       "    </tr>\n",
       "    <tr>\n",
       "      <th>50%</th>\n",
       "      <td>8.000000</td>\n",
       "      <td>10.000000</td>\n",
       "      <td>1000.000000</td>\n",
       "      <td>0.000000</td>\n",
       "      <td>4.000000</td>\n",
       "      <td>143.500000</td>\n",
       "      <td>0.000000</td>\n",
       "      <td>0.000000</td>\n",
       "      <td>0.000000</td>\n",
       "      <td>0.000000</td>\n",
       "      <td>50.000000</td>\n",
       "      <td>2.000000</td>\n",
       "      <td>0.000000</td>\n",
       "      <td>40.000000</td>\n",
       "      <td>50.000000</td>\n",
       "      <td>1.0</td>\n",
       "      <td>8.225000e+03</td>\n",
       "      <td>4.045170</td>\n",
       "      <td>0.000000</td>\n",
       "      <td>752.500000</td>\n",
       "    </tr>\n",
       "    <tr>\n",
       "      <th>75%</th>\n",
       "      <td>11.000000</td>\n",
       "      <td>26.000000</td>\n",
       "      <td>5000.000000</td>\n",
       "      <td>1.000000</td>\n",
       "      <td>4.000000</td>\n",
       "      <td>845.500000</td>\n",
       "      <td>0.000000</td>\n",
       "      <td>0.000000</td>\n",
       "      <td>0.000000</td>\n",
       "      <td>0.000000</td>\n",
       "      <td>50.000000</td>\n",
       "      <td>3.000000</td>\n",
       "      <td>0.000000</td>\n",
       "      <td>43.000000</td>\n",
       "      <td>50.000000</td>\n",
       "      <td>1.0</td>\n",
       "      <td>2.306200e+04</td>\n",
       "      <td>4.166826</td>\n",
       "      <td>0.000000</td>\n",
       "      <td>1166.500000</td>\n",
       "    </tr>\n",
       "    <tr>\n",
       "      <th>max</th>\n",
       "      <td>49.000000</td>\n",
       "      <td>252.000000</td>\n",
       "      <td>100000.000000</td>\n",
       "      <td>1.000000</td>\n",
       "      <td>6.000000</td>\n",
       "      <td>20744.000000</td>\n",
       "      <td>3.000000</td>\n",
       "      <td>1.000000</td>\n",
       "      <td>1.000000</td>\n",
       "      <td>1.000000</td>\n",
       "      <td>50.000000</td>\n",
       "      <td>12.000000</td>\n",
       "      <td>1.000000</td>\n",
       "      <td>140.000000</td>\n",
       "      <td>50.000000</td>\n",
       "      <td>1.0</td>\n",
       "      <td>2.174765e+06</td>\n",
       "      <td>4.577519</td>\n",
       "      <td>1.000000</td>\n",
       "      <td>1572.000000</td>\n",
       "    </tr>\n",
       "  </tbody>\n",
       "</table>\n",
       "</div>"
      ],
      "text/plain": [
       "             price  retail_price     units_sold  uses_ad_boosts       rating  \\\n",
       "count  1094.000000   1094.000000    1094.000000     1094.000000  1094.000000   \n",
       "mean      8.320786     23.712066    4518.661792        0.432358     4.006399   \n",
       "std       4.027448     31.802661    9825.608568        0.495630     0.585706   \n",
       "min       1.000000      2.000000       1.000000        0.000000     1.000000   \n",
       "25%       5.830000      7.000000     100.000000        0.000000     4.000000   \n",
       "50%       8.000000     10.000000    1000.000000        0.000000     4.000000   \n",
       "75%      11.000000     26.000000    5000.000000        1.000000     4.000000   \n",
       "max      49.000000    252.000000  100000.000000        1.000000     6.000000   \n",
       "\n",
       "       rating_count  badges_count  badge_local_product  badge_product_quality  \\\n",
       "count   1094.000000   1094.000000          1094.000000            1094.000000   \n",
       "mean     915.523766      0.114260             0.019196               0.083181   \n",
       "std     2037.561158      0.348461             0.137275               0.276282   \n",
       "min        0.000000      0.000000             0.000000               0.000000   \n",
       "25%       24.000000      0.000000             0.000000               0.000000   \n",
       "50%      143.500000      0.000000             0.000000               0.000000   \n",
       "75%      845.500000      0.000000             0.000000               0.000000   \n",
       "max    20744.000000      3.000000             1.000000               1.000000   \n",
       "\n",
       "       badge_fast_shipping  product_variation_inventory  \\\n",
       "count          1094.000000                  1094.000000   \n",
       "mean              0.011883                    32.807130   \n",
       "std               0.108409                    21.454655   \n",
       "min               0.000000                     1.000000   \n",
       "25%               0.000000                     6.000000   \n",
       "50%               0.000000                    50.000000   \n",
       "75%               0.000000                    50.000000   \n",
       "max               1.000000                    50.000000   \n",
       "\n",
       "       shipping_option_price  shipping_is_express  countries_shipped_to  \\\n",
       "count            1094.000000          1094.000000           1094.000000   \n",
       "mean                2.344607             0.002742             40.484461   \n",
       "std                 1.044781             0.052318             20.196229   \n",
       "min                 1.000000             0.000000              8.000000   \n",
       "25%                 2.000000             0.000000             31.000000   \n",
       "50%                 2.000000             0.000000             40.000000   \n",
       "75%                 3.000000             0.000000             43.000000   \n",
       "max                12.000000             1.000000            140.000000   \n",
       "\n",
       "       inventory_total  has_urgency_banner  merchant_rating_count  \\\n",
       "count      1094.000000               349.0           1.094000e+03   \n",
       "mean         49.849177                 1.0           2.678399e+04   \n",
       "std           2.480687                 0.0           8.616171e+04   \n",
       "min           1.000000                 1.0           4.000000e+00   \n",
       "25%          50.000000                 1.0           1.926000e+03   \n",
       "50%          50.000000                 1.0           8.225000e+03   \n",
       "75%          50.000000                 1.0           2.306200e+04   \n",
       "max          50.000000                 1.0           2.174765e+06   \n",
       "\n",
       "       merchant_rating  merchant_has_profile_picture           id  \n",
       "count      1094.000000                   1094.000000  1094.000000  \n",
       "mean          4.036191                      0.155393   772.207495  \n",
       "std           0.200397                      0.362445   453.784430  \n",
       "min           2.941176                      0.000000     2.000000  \n",
       "25%           3.918464                      0.000000   382.250000  \n",
       "50%           4.045170                      0.000000   752.500000  \n",
       "75%           4.166826                      0.000000  1166.500000  \n",
       "max           4.577519                      1.000000  1572.000000  "
      ]
     },
     "execution_count": 381,
     "metadata": {},
     "output_type": "execute_result"
    }
   ],
   "source": [
    "df.describe()"
   ]
  },
  {
   "cell_type": "code",
   "execution_count": 382,
   "id": "8ebe8210",
   "metadata": {},
   "outputs": [
    {
     "data": {
      "text/html": [
       "<div>\n",
       "<style scoped>\n",
       "    .dataframe tbody tr th:only-of-type {\n",
       "        vertical-align: middle;\n",
       "    }\n",
       "\n",
       "    .dataframe tbody tr th {\n",
       "        vertical-align: top;\n",
       "    }\n",
       "\n",
       "    .dataframe thead th {\n",
       "        text-align: right;\n",
       "    }\n",
       "</style>\n",
       "<table border=\"1\" class=\"dataframe\">\n",
       "  <thead>\n",
       "    <tr style=\"text-align: right;\">\n",
       "      <th></th>\n",
       "      <th>price</th>\n",
       "      <th>retail_price</th>\n",
       "      <th>currency_buyer</th>\n",
       "      <th>units_sold</th>\n",
       "      <th>uses_ad_boosts</th>\n",
       "      <th>rating</th>\n",
       "      <th>rating_count</th>\n",
       "      <th>badges_count</th>\n",
       "      <th>badge_local_product</th>\n",
       "      <th>badge_product_quality</th>\n",
       "      <th>...</th>\n",
       "      <th>merchant_name</th>\n",
       "      <th>merchant_info_subtitle</th>\n",
       "      <th>merchant_rating_count</th>\n",
       "      <th>merchant_rating</th>\n",
       "      <th>merchant_id</th>\n",
       "      <th>merchant_has_profile_picture</th>\n",
       "      <th>merchant_profile_picture</th>\n",
       "      <th>theme</th>\n",
       "      <th>crawl_month</th>\n",
       "      <th>id</th>\n",
       "    </tr>\n",
       "  </thead>\n",
       "  <tbody>\n",
       "    <tr>\n",
       "      <th>0</th>\n",
       "      <td>8.00</td>\n",
       "      <td>7</td>\n",
       "      <td>EUR</td>\n",
       "      <td>10000</td>\n",
       "      <td>1</td>\n",
       "      <td>4.0</td>\n",
       "      <td>1670</td>\n",
       "      <td>0</td>\n",
       "      <td>0</td>\n",
       "      <td>0</td>\n",
       "      <td>...</td>\n",
       "      <td>keepahorse</td>\n",
       "      <td>88 % avis positifs (66,644 notes)</td>\n",
       "      <td>66644</td>\n",
       "      <td>4.137582</td>\n",
       "      <td>577fb2b368116418674befd9</td>\n",
       "      <td>1</td>\n",
       "      <td>https://s3-us-west-1.amazonaws.com/sweeper-pro...</td>\n",
       "      <td>summer</td>\n",
       "      <td>2020-08</td>\n",
       "      <td>272</td>\n",
       "    </tr>\n",
       "    <tr>\n",
       "      <th>1</th>\n",
       "      <td>8.00</td>\n",
       "      <td>7</td>\n",
       "      <td>EUR</td>\n",
       "      <td>1000</td>\n",
       "      <td>0</td>\n",
       "      <td>4.0</td>\n",
       "      <td>843</td>\n",
       "      <td>1</td>\n",
       "      <td>1</td>\n",
       "      <td>0</td>\n",
       "      <td>...</td>\n",
       "      <td>上海铭启电气科技有限公司</td>\n",
       "      <td>91 % avis positifs (25,752 notes)</td>\n",
       "      <td>25752</td>\n",
       "      <td>4.256873</td>\n",
       "      <td>566a3ef17233ff2686443082</td>\n",
       "      <td>0</td>\n",
       "      <td>NaN</td>\n",
       "      <td>summer</td>\n",
       "      <td>2020-08</td>\n",
       "      <td>1515</td>\n",
       "    </tr>\n",
       "    <tr>\n",
       "      <th>2</th>\n",
       "      <td>6.00</td>\n",
       "      <td>34</td>\n",
       "      <td>EUR</td>\n",
       "      <td>100</td>\n",
       "      <td>0</td>\n",
       "      <td>4.0</td>\n",
       "      <td>10</td>\n",
       "      <td>0</td>\n",
       "      <td>0</td>\n",
       "      <td>0</td>\n",
       "      <td>...</td>\n",
       "      <td>zhaodongmei</td>\n",
       "      <td>83 % avis positifs (3,897 notes)</td>\n",
       "      <td>3897</td>\n",
       "      <td>3.928920</td>\n",
       "      <td>5aacd6c1ccf0c83e5a6f3de0</td>\n",
       "      <td>0</td>\n",
       "      <td>NaN</td>\n",
       "      <td>summer</td>\n",
       "      <td>2020-08</td>\n",
       "      <td>940</td>\n",
       "    </tr>\n",
       "    <tr>\n",
       "      <th>3</th>\n",
       "      <td>4.67</td>\n",
       "      <td>4</td>\n",
       "      <td>EUR</td>\n",
       "      <td>100</td>\n",
       "      <td>1</td>\n",
       "      <td>3.0</td>\n",
       "      <td>82</td>\n",
       "      <td>0</td>\n",
       "      <td>0</td>\n",
       "      <td>0</td>\n",
       "      <td>...</td>\n",
       "      <td>pookie0331</td>\n",
       "      <td>87 % avis positifs (7,497 notes)</td>\n",
       "      <td>7497</td>\n",
       "      <td>4.079365</td>\n",
       "      <td>583141fbfef4094e51453d9b</td>\n",
       "      <td>0</td>\n",
       "      <td>NaN</td>\n",
       "      <td>summer</td>\n",
       "      <td>2020-08</td>\n",
       "      <td>309</td>\n",
       "    </tr>\n",
       "    <tr>\n",
       "      <th>4</th>\n",
       "      <td>8.00</td>\n",
       "      <td>11</td>\n",
       "      <td>EUR</td>\n",
       "      <td>1000</td>\n",
       "      <td>0</td>\n",
       "      <td>4.0</td>\n",
       "      <td>127</td>\n",
       "      <td>0</td>\n",
       "      <td>0</td>\n",
       "      <td>0</td>\n",
       "      <td>...</td>\n",
       "      <td>shitongyi12683626</td>\n",
       "      <td>91 % avis positifs (173 notes)</td>\n",
       "      <td>173</td>\n",
       "      <td>4.306358</td>\n",
       "      <td>5d3bc9f8e13a7e654424a4cb</td>\n",
       "      <td>0</td>\n",
       "      <td>NaN</td>\n",
       "      <td>summer</td>\n",
       "      <td>2020-08</td>\n",
       "      <td>226</td>\n",
       "    </tr>\n",
       "    <tr>\n",
       "      <th>...</th>\n",
       "      <td>...</td>\n",
       "      <td>...</td>\n",
       "      <td>...</td>\n",
       "      <td>...</td>\n",
       "      <td>...</td>\n",
       "      <td>...</td>\n",
       "      <td>...</td>\n",
       "      <td>...</td>\n",
       "      <td>...</td>\n",
       "      <td>...</td>\n",
       "      <td>...</td>\n",
       "      <td>...</td>\n",
       "      <td>...</td>\n",
       "      <td>...</td>\n",
       "      <td>...</td>\n",
       "      <td>...</td>\n",
       "      <td>...</td>\n",
       "      <td>...</td>\n",
       "      <td>...</td>\n",
       "      <td>...</td>\n",
       "      <td>...</td>\n",
       "    </tr>\n",
       "    <tr>\n",
       "      <th>1089</th>\n",
       "      <td>4.00</td>\n",
       "      <td>4</td>\n",
       "      <td>EUR</td>\n",
       "      <td>10000</td>\n",
       "      <td>0</td>\n",
       "      <td>4.0</td>\n",
       "      <td>2150</td>\n",
       "      <td>0</td>\n",
       "      <td>0</td>\n",
       "      <td>0</td>\n",
       "      <td>...</td>\n",
       "      <td>fantastic_tune</td>\n",
       "      <td>92 % avis positifs (230,951 notes)</td>\n",
       "      <td>230951</td>\n",
       "      <td>4.311066</td>\n",
       "      <td>53f2db3c104dae6bcae0c271</td>\n",
       "      <td>0</td>\n",
       "      <td>NaN</td>\n",
       "      <td>summer</td>\n",
       "      <td>2020-08</td>\n",
       "      <td>1381</td>\n",
       "    </tr>\n",
       "    <tr>\n",
       "      <th>1090</th>\n",
       "      <td>5.00</td>\n",
       "      <td>5</td>\n",
       "      <td>EUR</td>\n",
       "      <td>1000</td>\n",
       "      <td>0</td>\n",
       "      <td>5.0</td>\n",
       "      <td>377</td>\n",
       "      <td>1</td>\n",
       "      <td>0</td>\n",
       "      <td>1</td>\n",
       "      <td>...</td>\n",
       "      <td>zzbllss</td>\n",
       "      <td>(2,904 notes)</td>\n",
       "      <td>2904</td>\n",
       "      <td>4.422521</td>\n",
       "      <td>592968ba63950d682ca4b195</td>\n",
       "      <td>0</td>\n",
       "      <td>NaN</td>\n",
       "      <td>summer</td>\n",
       "      <td>2020-08</td>\n",
       "      <td>212</td>\n",
       "    </tr>\n",
       "    <tr>\n",
       "      <th>1091</th>\n",
       "      <td>9.00</td>\n",
       "      <td>48</td>\n",
       "      <td>EUR</td>\n",
       "      <td>1000</td>\n",
       "      <td>1</td>\n",
       "      <td>4.0</td>\n",
       "      <td>135</td>\n",
       "      <td>0</td>\n",
       "      <td>0</td>\n",
       "      <td>0</td>\n",
       "      <td>...</td>\n",
       "      <td>oiug56465</td>\n",
       "      <td>78 % avis positifs (6,632 notes)</td>\n",
       "      <td>6632</td>\n",
       "      <td>3.748794</td>\n",
       "      <td>5b6ec2f2838d931d2fbf7a28</td>\n",
       "      <td>0</td>\n",
       "      <td>NaN</td>\n",
       "      <td>summer</td>\n",
       "      <td>2020-08</td>\n",
       "      <td>163</td>\n",
       "    </tr>\n",
       "    <tr>\n",
       "      <th>1092</th>\n",
       "      <td>11.00</td>\n",
       "      <td>10</td>\n",
       "      <td>EUR</td>\n",
       "      <td>10000</td>\n",
       "      <td>1</td>\n",
       "      <td>4.0</td>\n",
       "      <td>1479</td>\n",
       "      <td>0</td>\n",
       "      <td>0</td>\n",
       "      <td>0</td>\n",
       "      <td>...</td>\n",
       "      <td>yubenqiang</td>\n",
       "      <td>83 % avis positifs (5,816 notes)</td>\n",
       "      <td>5816</td>\n",
       "      <td>3.936382</td>\n",
       "      <td>58330d7def56284f7634e5e5</td>\n",
       "      <td>0</td>\n",
       "      <td>NaN</td>\n",
       "      <td>summer</td>\n",
       "      <td>2020-08</td>\n",
       "      <td>674</td>\n",
       "    </tr>\n",
       "    <tr>\n",
       "      <th>1093</th>\n",
       "      <td>7.00</td>\n",
       "      <td>6</td>\n",
       "      <td>EUR</td>\n",
       "      <td>1000</td>\n",
       "      <td>1</td>\n",
       "      <td>3.0</td>\n",
       "      <td>141</td>\n",
       "      <td>0</td>\n",
       "      <td>0</td>\n",
       "      <td>0</td>\n",
       "      <td>...</td>\n",
       "      <td>greatexpectationstechnology</td>\n",
       "      <td>86 % avis positifs (12,309 notes)</td>\n",
       "      <td>12309</td>\n",
       "      <td>4.045170</td>\n",
       "      <td>5acaf29d5ebcfd72403106a8</td>\n",
       "      <td>1</td>\n",
       "      <td>https://s3-us-west-1.amazonaws.com/sweeper-pro...</td>\n",
       "      <td>summer</td>\n",
       "      <td>2020-08</td>\n",
       "      <td>1536</td>\n",
       "    </tr>\n",
       "  </tbody>\n",
       "</table>\n",
       "<p>1094 rows × 34 columns</p>\n",
       "</div>"
      ],
      "text/plain": [
       "      price  retail_price currency_buyer  units_sold  uses_ad_boosts  rating  \\\n",
       "0      8.00             7            EUR       10000               1     4.0   \n",
       "1      8.00             7            EUR        1000               0     4.0   \n",
       "2      6.00            34            EUR         100               0     4.0   \n",
       "3      4.67             4            EUR         100               1     3.0   \n",
       "4      8.00            11            EUR        1000               0     4.0   \n",
       "...     ...           ...            ...         ...             ...     ...   \n",
       "1089   4.00             4            EUR       10000               0     4.0   \n",
       "1090   5.00             5            EUR        1000               0     5.0   \n",
       "1091   9.00            48            EUR        1000               1     4.0   \n",
       "1092  11.00            10            EUR       10000               1     4.0   \n",
       "1093   7.00             6            EUR        1000               1     3.0   \n",
       "\n",
       "      rating_count  badges_count  badge_local_product  badge_product_quality  \\\n",
       "0             1670             0                    0                      0   \n",
       "1              843             1                    1                      0   \n",
       "2               10             0                    0                      0   \n",
       "3               82             0                    0                      0   \n",
       "4              127             0                    0                      0   \n",
       "...            ...           ...                  ...                    ...   \n",
       "1089          2150             0                    0                      0   \n",
       "1090           377             1                    0                      1   \n",
       "1091           135             0                    0                      0   \n",
       "1092          1479             0                    0                      0   \n",
       "1093           141             0                    0                      0   \n",
       "\n",
       "      ...                merchant_name              merchant_info_subtitle  \\\n",
       "0     ...                   keepahorse   88 % avis positifs (66,644 notes)   \n",
       "1     ...                 上海铭启电气科技有限公司   91 % avis positifs (25,752 notes)   \n",
       "2     ...                  zhaodongmei    83 % avis positifs (3,897 notes)   \n",
       "3     ...                   pookie0331    87 % avis positifs (7,497 notes)   \n",
       "4     ...            shitongyi12683626      91 % avis positifs (173 notes)   \n",
       "...   ...                          ...                                 ...   \n",
       "1089  ...               fantastic_tune  92 % avis positifs (230,951 notes)   \n",
       "1090  ...                      zzbllss                       (2,904 notes)   \n",
       "1091  ...                    oiug56465    78 % avis positifs (6,632 notes)   \n",
       "1092  ...                   yubenqiang    83 % avis positifs (5,816 notes)   \n",
       "1093  ...  greatexpectationstechnology   86 % avis positifs (12,309 notes)   \n",
       "\n",
       "     merchant_rating_count merchant_rating               merchant_id  \\\n",
       "0                    66644        4.137582  577fb2b368116418674befd9   \n",
       "1                    25752        4.256873  566a3ef17233ff2686443082   \n",
       "2                     3897        3.928920  5aacd6c1ccf0c83e5a6f3de0   \n",
       "3                     7497        4.079365  583141fbfef4094e51453d9b   \n",
       "4                      173        4.306358  5d3bc9f8e13a7e654424a4cb   \n",
       "...                    ...             ...                       ...   \n",
       "1089                230951        4.311066  53f2db3c104dae6bcae0c271   \n",
       "1090                  2904        4.422521  592968ba63950d682ca4b195   \n",
       "1091                  6632        3.748794  5b6ec2f2838d931d2fbf7a28   \n",
       "1092                  5816        3.936382  58330d7def56284f7634e5e5   \n",
       "1093                 12309        4.045170  5acaf29d5ebcfd72403106a8   \n",
       "\n",
       "     merchant_has_profile_picture  \\\n",
       "0                               1   \n",
       "1                               0   \n",
       "2                               0   \n",
       "3                               0   \n",
       "4                               0   \n",
       "...                           ...   \n",
       "1089                            0   \n",
       "1090                            0   \n",
       "1091                            0   \n",
       "1092                            0   \n",
       "1093                            1   \n",
       "\n",
       "                               merchant_profile_picture   theme  crawl_month  \\\n",
       "0     https://s3-us-west-1.amazonaws.com/sweeper-pro...  summer      2020-08   \n",
       "1                                                   NaN  summer      2020-08   \n",
       "2                                                   NaN  summer      2020-08   \n",
       "3                                                   NaN  summer      2020-08   \n",
       "4                                                   NaN  summer      2020-08   \n",
       "...                                                 ...     ...          ...   \n",
       "1089                                                NaN  summer      2020-08   \n",
       "1090                                                NaN  summer      2020-08   \n",
       "1091                                                NaN  summer      2020-08   \n",
       "1092                                                NaN  summer      2020-08   \n",
       "1093  https://s3-us-west-1.amazonaws.com/sweeper-pro...  summer      2020-08   \n",
       "\n",
       "        id  \n",
       "0      272  \n",
       "1     1515  \n",
       "2      940  \n",
       "3      309  \n",
       "4      226  \n",
       "...    ...  \n",
       "1089  1381  \n",
       "1090   212  \n",
       "1091   163  \n",
       "1092   674  \n",
       "1093  1536  \n",
       "\n",
       "[1094 rows x 34 columns]"
      ]
     },
     "execution_count": 382,
     "metadata": {},
     "output_type": "execute_result"
    }
   ],
   "source": [
    "#drop duplicates rows \n",
    "df.drop_duplicates()"
   ]
  },
  {
   "cell_type": "code",
   "execution_count": 383,
   "id": "a04b31e9",
   "metadata": {},
   "outputs": [
    {
     "name": "stdout",
     "output_type": "stream",
     "text": [
      "<class 'pandas.core.frame.DataFrame'>\n",
      "RangeIndex: 1094 entries, 0 to 1093\n",
      "Data columns (total 34 columns):\n",
      " #   Column                        Non-Null Count  Dtype  \n",
      "---  ------                        --------------  -----  \n",
      " 0   price                         1094 non-null   float64\n",
      " 1   retail_price                  1094 non-null   int64  \n",
      " 2   currency_buyer                1094 non-null   object \n",
      " 3   units_sold                    1094 non-null   int64  \n",
      " 4   uses_ad_boosts                1094 non-null   int64  \n",
      " 5   rating                        1094 non-null   float64\n",
      " 6   rating_count                  1094 non-null   int64  \n",
      " 7   badges_count                  1094 non-null   int64  \n",
      " 8   badge_local_product           1094 non-null   int64  \n",
      " 9   badge_product_quality         1094 non-null   int64  \n",
      " 10  badge_fast_shipping           1094 non-null   int64  \n",
      " 11  tags                          1094 non-null   object \n",
      " 12  product_color                 1065 non-null   object \n",
      " 13  product_variation_size_id     1082 non-null   object \n",
      " 14  product_variation_inventory   1094 non-null   int64  \n",
      " 15  shipping_option_name          1094 non-null   object \n",
      " 16  shipping_option_price         1094 non-null   int64  \n",
      " 17  shipping_is_express           1094 non-null   int64  \n",
      " 18  countries_shipped_to          1094 non-null   int64  \n",
      " 19  inventory_total               1094 non-null   int64  \n",
      " 20  has_urgency_banner            349 non-null    float64\n",
      " 21  urgency_text                  349 non-null    object \n",
      " 22  origin_country                1082 non-null   object \n",
      " 23  merchant_title                1094 non-null   object \n",
      " 24  merchant_name                 1090 non-null   object \n",
      " 25  merchant_info_subtitle        1094 non-null   object \n",
      " 26  merchant_rating_count         1094 non-null   int64  \n",
      " 27  merchant_rating               1094 non-null   float64\n",
      " 28  merchant_id                   1094 non-null   object \n",
      " 29  merchant_has_profile_picture  1094 non-null   int64  \n",
      " 30  merchant_profile_picture      170 non-null    object \n",
      " 31  theme                         1094 non-null   object \n",
      " 32  crawl_month                   1094 non-null   object \n",
      " 33  id                            1094 non-null   int64  \n",
      "dtypes: float64(4), int64(16), object(14)\n",
      "memory usage: 290.7+ KB\n"
     ]
    }
   ],
   "source": [
    "df.info()"
   ]
  },
  {
   "cell_type": "code",
   "execution_count": 384,
   "id": "ec10e343",
   "metadata": {},
   "outputs": [
    {
     "data": {
      "text/plain": [
       "(1094, 34)"
      ]
     },
     "execution_count": 384,
     "metadata": {},
     "output_type": "execute_result"
    }
   ],
   "source": [
    "df.shape"
   ]
  },
  {
   "cell_type": "code",
   "execution_count": 385,
   "id": "9ca6a41f",
   "metadata": {},
   "outputs": [
    {
     "data": {
      "text/plain": [
       "price                             0\n",
       "retail_price                      0\n",
       "currency_buyer                    0\n",
       "units_sold                        0\n",
       "uses_ad_boosts                    0\n",
       "rating                            0\n",
       "rating_count                      0\n",
       "badges_count                      0\n",
       "badge_local_product               0\n",
       "badge_product_quality             0\n",
       "badge_fast_shipping               0\n",
       "tags                              0\n",
       "product_color                    29\n",
       "product_variation_size_id        12\n",
       "product_variation_inventory       0\n",
       "shipping_option_name              0\n",
       "shipping_option_price             0\n",
       "shipping_is_express               0\n",
       "countries_shipped_to              0\n",
       "inventory_total                   0\n",
       "has_urgency_banner              745\n",
       "urgency_text                    745\n",
       "origin_country                   12\n",
       "merchant_title                    0\n",
       "merchant_name                     4\n",
       "merchant_info_subtitle            0\n",
       "merchant_rating_count             0\n",
       "merchant_rating                   0\n",
       "merchant_id                       0\n",
       "merchant_has_profile_picture      0\n",
       "merchant_profile_picture        924\n",
       "theme                             0\n",
       "crawl_month                       0\n",
       "id                                0\n",
       "dtype: int64"
      ]
     },
     "execution_count": 385,
     "metadata": {},
     "output_type": "execute_result"
    }
   ],
   "source": [
    "#6 out of 34 columns has nulls \n",
    "df.isnull().sum()"
   ]
  },
  {
   "cell_type": "code",
   "execution_count": 386,
   "id": "2cf78d92",
   "metadata": {},
   "outputs": [
    {
     "name": "stderr",
     "output_type": "stream",
     "text": [
      "C:\\Users\\Ahmed Mahmoud\\Anaconda3\\lib\\site-packages\\seaborn\\_decorators.py:36: FutureWarning: Pass the following variable as a keyword arg: x. From version 0.12, the only valid positional argument will be `data`, and passing other arguments without an explicit keyword will result in an error or misinterpretation.\n",
      "  warnings.warn(\n"
     ]
    },
    {
     "data": {
      "image/png": "[encoded data removed]",
      "text/plain": [
       "<Figure size 2880x720 with 1 Axes>"
      ]
     },
     "metadata": {
      "needs_background": "light"
     },
     "output_type": "display_data"
    }
   ],
   "source": [
    "#plot the product color\n",
    "fig, ax = plt.subplots(figsize = (40, 10))\n",
    "sns.countplot('product_color', data = df, x = 'product_color', order = df['product_color'].value_counts().index, ax = ax)\n",
    "ax.set(xlabel='Product Colour', ylabel='Count')\n",
    "plt.xticks(rotation=45, ha='right')\n",
    "plt.show()"
   ]
  },
  {
   "cell_type": "code",
   "execution_count": 387,
   "id": "0c2366a0",
   "metadata": {},
   "outputs": [
    {
     "data": {
      "text/plain": [
       "black        219\n",
       "white        173\n",
       "blue          77\n",
       "yellow        69\n",
       "pink          68\n",
       "            ... \n",
       "denimblue      1\n",
       "army           1\n",
       "violet         1\n",
       "apricot        1\n",
       "silver         1\n",
       "Name: product_color, Length: 87, dtype: int64"
      ]
     },
     "execution_count": 387,
     "metadata": {},
     "output_type": "execute_result"
    }
   ],
   "source": [
    "df['product_color'].value_counts()"
   ]
  },
  {
   "cell_type": "code",
   "execution_count": 388,
   "id": "a90d6fed",
   "metadata": {},
   "outputs": [],
   "source": [
    "#replace the color with their base color \n",
    "df['product_color'].replace(['lakeblue', 'black & blue', 'navyblue', 'navy', 'navyblue & white', 'navy blue', 'lightblue', 'Blue', 'pink & blue', 'skyblue', 'blue & pink', 'darkblue', 'denimblue'], 'blue', inplace = True)\n",
    "df['product_color'].replace(['Black', 'coolblack', 'black & white'], 'black', inplace = True)\n",
    "df['product_color'].replace(['khaki','beige', 'coffee', 'camel'], 'brown', inplace = True)\n",
    "df['product_color'].replace(['lightgray', 'gray','lightgrey', 'coffee', 'camel', 'silver'], 'grey', inplace = True)\n",
    "df['product_color'].replace(['brown & yellow','lightyellow', 'winered & yellow'], 'yellow', inplace = True)\n",
    "df['product_color'].replace(['violet','winered', 'orange-red','RED','lightred', 'wine red', 'watermelonred', 'purple', 'rose'], 'red', inplace = True)\n",
    "df['product_color'].replace(['Pink', 'Rose red', 'dustypink', 'lightpink', 'rosered'],'pink', inplace = True)\n",
    "df['product_color'].replace(['violet', 'White', 'whitestripe', 'offwhite', 'floral', 'whitefloral'], 'white', inplace = True)\n",
    "df['product_color'].replace(['mintgreen','black & green','armygreen', 'Army green', 'darkgreen', 'lightgreen', 'applegreen', 'light green', 'fluorescentgreen'], 'green', inplace = True)\n",
    "df['product_color'].replace([\"army\", \"leopard\", \"leopardprint\",\"greysnakeskinprint\", 'brown & yellow','rosegold','camouflage','ivory','apricot', 'white & green', 'burgundy', 'multicolor','pink & white','white & black','white & black'\n",
    "                           \"silver\", \"tan\", \"star\", \"floral\", \"wine\", \"claret\", \"jasper\",'pink & black', \"nude\", 'rainbow', 'gold','apricot', 'apricot','blackwhite', 'black & yellow', 'pink & grey' ], 'other', inplace = True)"
   ]
  },
  {
   "cell_type": "code",
   "execution_count": 389,
   "id": "d6c43023",
   "metadata": {},
   "outputs": [
    {
     "data": {
      "text/plain": [
       "29"
      ]
     },
     "execution_count": 389,
     "metadata": {},
     "output_type": "execute_result"
    }
   ],
   "source": [
    "df['product_color'].isnull().sum()"
   ]
  },
  {
   "cell_type": "code",
   "execution_count": 390,
   "id": "1060a895",
   "metadata": {},
   "outputs": [],
   "source": [
    "#replace the nan values with other \n",
    "df['product_color'] = df['product_color'].replace(np.nan, 'other')"
   ]
  },
  {
   "cell_type": "code",
   "execution_count": 391,
   "id": "d708f908",
   "metadata": {},
   "outputs": [
    {
     "data": {
      "text/plain": [
       "0"
      ]
     },
     "execution_count": 391,
     "metadata": {},
     "output_type": "execute_result"
    }
   ],
   "source": [
    "df['product_color'].isnull().sum()"
   ]
  },
  {
   "cell_type": "code",
   "execution_count": 392,
   "id": "f2b905f4",
   "metadata": {},
   "outputs": [
    {
     "name": "stderr",
     "output_type": "stream",
     "text": [
      "C:\\Users\\Ahmed Mahmoud\\Anaconda3\\lib\\site-packages\\seaborn\\_decorators.py:36: FutureWarning: Pass the following variable as a keyword arg: x. From version 0.12, the only valid positional argument will be `data`, and passing other arguments without an explicit keyword will result in an error or misinterpretation.\n",
      "  warnings.warn(\n"
     ]
    },
    {
     "data": {
      "image/png": "[encoded data removed]",
      "text/plain": [
       "<Figure size 1440x576 with 1 Axes>"
      ]
     },
     "metadata": {
      "needs_background": "light"
     },
     "output_type": "display_data"
    }
   ],
   "source": [
    "#plotting the product color after handeling it\n",
    "fig, ax = plt.subplots(figsize = (20, 8))\n",
    "sns.countplot('product_color', data = df, order = df['product_color'].value_counts().index, ax = ax)\n",
    "ax.set(xlabel='Product Colour', ylabel='Count')\n",
    "plt.xticks(rotation=45, ha='right')\n",
    "plt.show()"
   ]
  },
  {
   "cell_type": "markdown",
   "id": "91dbd5f6",
   "metadata": {},
   "source": [
    "## Black is the most frequent color and white color follows it "
   ]
  },
  {
   "cell_type": "code",
   "execution_count": 393,
   "id": "cd1a0169",
   "metadata": {},
   "outputs": [
    {
     "data": {
      "text/html": [
       "<div>\n",
       "<style scoped>\n",
       "    .dataframe tbody tr th:only-of-type {\n",
       "        vertical-align: middle;\n",
       "    }\n",
       "\n",
       "    .dataframe tbody tr th {\n",
       "        vertical-align: top;\n",
       "    }\n",
       "\n",
       "    .dataframe thead th {\n",
       "        text-align: right;\n",
       "    }\n",
       "</style>\n",
       "<table border=\"1\" class=\"dataframe\">\n",
       "  <thead>\n",
       "    <tr style=\"text-align: right;\">\n",
       "      <th></th>\n",
       "      <th>price</th>\n",
       "      <th>retail_price</th>\n",
       "      <th>currency_buyer</th>\n",
       "      <th>units_sold</th>\n",
       "      <th>uses_ad_boosts</th>\n",
       "      <th>rating</th>\n",
       "      <th>rating_count</th>\n",
       "      <th>badges_count</th>\n",
       "      <th>badge_local_product</th>\n",
       "      <th>badge_product_quality</th>\n",
       "      <th>...</th>\n",
       "      <th>merchant_name</th>\n",
       "      <th>merchant_info_subtitle</th>\n",
       "      <th>merchant_rating_count</th>\n",
       "      <th>merchant_rating</th>\n",
       "      <th>merchant_id</th>\n",
       "      <th>merchant_has_profile_picture</th>\n",
       "      <th>merchant_profile_picture</th>\n",
       "      <th>theme</th>\n",
       "      <th>crawl_month</th>\n",
       "      <th>id</th>\n",
       "    </tr>\n",
       "  </thead>\n",
       "  <tbody>\n",
       "    <tr>\n",
       "      <th>0</th>\n",
       "      <td>8.00</td>\n",
       "      <td>7</td>\n",
       "      <td>EUR</td>\n",
       "      <td>10000</td>\n",
       "      <td>1</td>\n",
       "      <td>4.0</td>\n",
       "      <td>1670</td>\n",
       "      <td>0</td>\n",
       "      <td>0</td>\n",
       "      <td>0</td>\n",
       "      <td>...</td>\n",
       "      <td>keepahorse</td>\n",
       "      <td>88 % avis positifs (66,644 notes)</td>\n",
       "      <td>66644</td>\n",
       "      <td>4.137582</td>\n",
       "      <td>577fb2b368116418674befd9</td>\n",
       "      <td>1</td>\n",
       "      <td>https://s3-us-west-1.amazonaws.com/sweeper-pro...</td>\n",
       "      <td>summer</td>\n",
       "      <td>2020-08</td>\n",
       "      <td>272</td>\n",
       "    </tr>\n",
       "    <tr>\n",
       "      <th>1</th>\n",
       "      <td>8.00</td>\n",
       "      <td>7</td>\n",
       "      <td>EUR</td>\n",
       "      <td>1000</td>\n",
       "      <td>0</td>\n",
       "      <td>4.0</td>\n",
       "      <td>843</td>\n",
       "      <td>1</td>\n",
       "      <td>1</td>\n",
       "      <td>0</td>\n",
       "      <td>...</td>\n",
       "      <td>上海铭启电气科技有限公司</td>\n",
       "      <td>91 % avis positifs (25,752 notes)</td>\n",
       "      <td>25752</td>\n",
       "      <td>4.256873</td>\n",
       "      <td>566a3ef17233ff2686443082</td>\n",
       "      <td>0</td>\n",
       "      <td>NaN</td>\n",
       "      <td>summer</td>\n",
       "      <td>2020-08</td>\n",
       "      <td>1515</td>\n",
       "    </tr>\n",
       "    <tr>\n",
       "      <th>2</th>\n",
       "      <td>6.00</td>\n",
       "      <td>34</td>\n",
       "      <td>EUR</td>\n",
       "      <td>100</td>\n",
       "      <td>0</td>\n",
       "      <td>4.0</td>\n",
       "      <td>10</td>\n",
       "      <td>0</td>\n",
       "      <td>0</td>\n",
       "      <td>0</td>\n",
       "      <td>...</td>\n",
       "      <td>zhaodongmei</td>\n",
       "      <td>83 % avis positifs (3,897 notes)</td>\n",
       "      <td>3897</td>\n",
       "      <td>3.928920</td>\n",
       "      <td>5aacd6c1ccf0c83e5a6f3de0</td>\n",
       "      <td>0</td>\n",
       "      <td>NaN</td>\n",
       "      <td>summer</td>\n",
       "      <td>2020-08</td>\n",
       "      <td>940</td>\n",
       "    </tr>\n",
       "    <tr>\n",
       "      <th>3</th>\n",
       "      <td>4.67</td>\n",
       "      <td>4</td>\n",
       "      <td>EUR</td>\n",
       "      <td>100</td>\n",
       "      <td>1</td>\n",
       "      <td>3.0</td>\n",
       "      <td>82</td>\n",
       "      <td>0</td>\n",
       "      <td>0</td>\n",
       "      <td>0</td>\n",
       "      <td>...</td>\n",
       "      <td>pookie0331</td>\n",
       "      <td>87 % avis positifs (7,497 notes)</td>\n",
       "      <td>7497</td>\n",
       "      <td>4.079365</td>\n",
       "      <td>583141fbfef4094e51453d9b</td>\n",
       "      <td>0</td>\n",
       "      <td>NaN</td>\n",
       "      <td>summer</td>\n",
       "      <td>2020-08</td>\n",
       "      <td>309</td>\n",
       "    </tr>\n",
       "    <tr>\n",
       "      <th>4</th>\n",
       "      <td>8.00</td>\n",
       "      <td>11</td>\n",
       "      <td>EUR</td>\n",
       "      <td>1000</td>\n",
       "      <td>0</td>\n",
       "      <td>4.0</td>\n",
       "      <td>127</td>\n",
       "      <td>0</td>\n",
       "      <td>0</td>\n",
       "      <td>0</td>\n",
       "      <td>...</td>\n",
       "      <td>shitongyi12683626</td>\n",
       "      <td>91 % avis positifs (173 notes)</td>\n",
       "      <td>173</td>\n",
       "      <td>4.306358</td>\n",
       "      <td>5d3bc9f8e13a7e654424a4cb</td>\n",
       "      <td>0</td>\n",
       "      <td>NaN</td>\n",
       "      <td>summer</td>\n",
       "      <td>2020-08</td>\n",
       "      <td>226</td>\n",
       "    </tr>\n",
       "  </tbody>\n",
       "</table>\n",
       "<p>5 rows × 34 columns</p>\n",
       "</div>"
      ],
      "text/plain": [
       "   price  retail_price currency_buyer  units_sold  uses_ad_boosts  rating  \\\n",
       "0   8.00             7            EUR       10000               1     4.0   \n",
       "1   8.00             7            EUR        1000               0     4.0   \n",
       "2   6.00            34            EUR         100               0     4.0   \n",
       "3   4.67             4            EUR         100               1     3.0   \n",
       "4   8.00            11            EUR        1000               0     4.0   \n",
       "\n",
       "   rating_count  badges_count  badge_local_product  badge_product_quality  \\\n",
       "0          1670             0                    0                      0   \n",
       "1           843             1                    1                      0   \n",
       "2            10             0                    0                      0   \n",
       "3            82             0                    0                      0   \n",
       "4           127             0                    0                      0   \n",
       "\n",
       "   ...      merchant_name             merchant_info_subtitle  \\\n",
       "0  ...         keepahorse  88 % avis positifs (66,644 notes)   \n",
       "1  ...       上海铭启电气科技有限公司  91 % avis positifs (25,752 notes)   \n",
       "2  ...        zhaodongmei   83 % avis positifs (3,897 notes)   \n",
       "3  ...         pookie0331   87 % avis positifs (7,497 notes)   \n",
       "4  ...  shitongyi12683626     91 % avis positifs (173 notes)   \n",
       "\n",
       "  merchant_rating_count merchant_rating               merchant_id  \\\n",
       "0                 66644        4.137582  577fb2b368116418674befd9   \n",
       "1                 25752        4.256873  566a3ef17233ff2686443082   \n",
       "2                  3897        3.928920  5aacd6c1ccf0c83e5a6f3de0   \n",
       "3                  7497        4.079365  583141fbfef4094e51453d9b   \n",
       "4                   173        4.306358  5d3bc9f8e13a7e654424a4cb   \n",
       "\n",
       "  merchant_has_profile_picture  \\\n",
       "0                            1   \n",
       "1                            0   \n",
       "2                            0   \n",
       "3                            0   \n",
       "4                            0   \n",
       "\n",
       "                            merchant_profile_picture   theme  crawl_month  \\\n",
       "0  https://s3-us-west-1.amazonaws.com/sweeper-pro...  summer      2020-08   \n",
       "1                                                NaN  summer      2020-08   \n",
       "2                                                NaN  summer      2020-08   \n",
       "3                                                NaN  summer      2020-08   \n",
       "4                                                NaN  summer      2020-08   \n",
       "\n",
       "     id  \n",
       "0   272  \n",
       "1  1515  \n",
       "2   940  \n",
       "3   309  \n",
       "4   226  \n",
       "\n",
       "[5 rows x 34 columns]"
      ]
     },
     "execution_count": 393,
     "metadata": {},
     "output_type": "execute_result"
    }
   ],
   "source": [
    "df.head()"
   ]
  },
  {
   "cell_type": "code",
   "execution_count": 394,
   "id": "e17abb2e",
   "metadata": {},
   "outputs": [
    {
     "data": {
      "text/plain": [
       "summer    1094\n",
       "Name: theme, dtype: int64"
      ]
     },
     "execution_count": 394,
     "metadata": {},
     "output_type": "execute_result"
    }
   ],
   "source": [
    "#as there is only 1 value for theme coulmn we drop the we drop it\n",
    "df['theme'].value_counts()"
   ]
  },
  {
   "cell_type": "code",
   "execution_count": 395,
   "id": "c8675811",
   "metadata": {},
   "outputs": [
    {
     "data": {
      "text/plain": [
       "EUR    1094\n",
       "Name: currency_buyer, dtype: int64"
      ]
     },
     "execution_count": 395,
     "metadata": {},
     "output_type": "execute_result"
    }
   ],
   "source": [
    "#currence_buyer cointains only 1 value which is EUR so i drop it\n",
    "df['currency_buyer'].value_counts()"
   ]
  },
  {
   "cell_type": "code",
   "execution_count": 396,
   "id": "f7a1b656",
   "metadata": {},
   "outputs": [
    {
     "data": {
      "text/plain": [
       "2020-08    1094\n",
       "Name: crawl_month, dtype: int64"
      ]
     },
     "execution_count": 396,
     "metadata": {},
     "output_type": "execute_result"
    }
   ],
   "source": [
    "#as there is only 1 value for theme coulmn we drop the we drop it\n",
    "df['crawl_month'].value_counts()"
   ]
  },
  {
   "cell_type": "code",
   "execution_count": 397,
   "id": "0d301ced",
   "metadata": {},
   "outputs": [
    {
     "data": {
      "text/plain": [
       "100       353\n",
       "1000      280\n",
       "5000      139\n",
       "10000     125\n",
       "20000      79\n",
       "50         54\n",
       "10         37\n",
       "50000      12\n",
       "100000      5\n",
       "8           4\n",
       "1           3\n",
       "2           2\n",
       "7           1\n",
       "Name: units_sold, dtype: int64"
      ]
     },
     "execution_count": 397,
     "metadata": {},
     "output_type": "execute_result"
    }
   ],
   "source": [
    "df['units_sold'].unique()\n",
    "df['units_sold'].value_counts()"
   ]
  },
  {
   "cell_type": "code",
   "execution_count": 398,
   "id": "f477c4ce",
   "metadata": {},
   "outputs": [
    {
     "name": "stderr",
     "output_type": "stream",
     "text": [
      "C:\\Users\\Ahmed Mahmoud\\Anaconda3\\lib\\site-packages\\seaborn\\_decorators.py:36: FutureWarning: Pass the following variable as a keyword arg: x. From version 0.12, the only valid positional argument will be `data`, and passing other arguments without an explicit keyword will result in an error or misinterpretation.\n",
      "  warnings.warn(\n"
     ]
    },
    {
     "data": {
      "image/png": "[encoded data removed]",
      "text/plain": [
       "<Figure size 1440x720 with 1 Axes>"
      ]
     },
     "metadata": {
      "needs_background": "light"
     },
     "output_type": "display_data"
    }
   ],
   "source": [
    "# how many units sold \n",
    "ax, fig = plt.subplots(figsize = (20,10))\n",
    "sns.countplot(df['units_sold'], data = df, order = df['units_sold'].value_counts().index)\n",
    "plt.xticks(rotation = 45);"
   ]
  },
  {
   "cell_type": "code",
   "execution_count": 399,
   "id": "f3167707",
   "metadata": {},
   "outputs": [
    {
     "data": {
      "text/plain": [
       "0    924\n",
       "1    170\n",
       "Name: merchant_has_profile_picture, dtype: int64"
      ]
     },
     "execution_count": 399,
     "metadata": {},
     "output_type": "execute_result"
    }
   ],
   "source": [
    "#924 doesn't have profile_picture so there is no need to keep it so will be dropped \n",
    "df['merchant_has_profile_picture'].value_counts()"
   ]
  },
  {
   "cell_type": "code",
   "execution_count": 400,
   "id": "fb68244f",
   "metadata": {},
   "outputs": [
    {
     "data": {
      "text/plain": [
       "greatexpectationstechnology    8\n",
       "广州唯适唯服饰有限公司                    7\n",
       "sangboostore                   6\n",
       "fengjinying                    6\n",
       "sjhdstoer                      6\n",
       "                              ..\n",
       "konheart                       1\n",
       "modernhatshop                  1\n",
       "pashesa                        1\n",
       "bumanke003                     1\n",
       "soband                         1\n",
       "Name: merchant_name, Length: 746, dtype: int64"
      ]
     },
     "execution_count": 400,
     "metadata": {},
     "output_type": "execute_result"
    }
   ],
   "source": [
    "#will be dropped, has noo impact on the model \n",
    "df['merchant_name'].value_counts()"
   ]
  },
  {
   "cell_type": "code",
   "execution_count": 401,
   "id": "da699e05",
   "metadata": {},
   "outputs": [
    {
     "data": {
      "text/plain": [
       "924"
      ]
     },
     "execution_count": 401,
     "metadata": {},
     "output_type": "execute_result"
    }
   ],
   "source": [
    "# merchant_profile_picture column has alot of null that means that the customer can't see the the merchant profile picture so \n",
    "df['merchant_profile_picture'].value_counts()#will be dropped \n",
    "df['merchant_profile_picture'].isnull().sum()"
   ]
  },
  {
   "cell_type": "code",
   "execution_count": 402,
   "id": "d6fd5c84",
   "metadata": {},
   "outputs": [
    {
     "data": {
      "text/plain": [
       "7     127\n",
       "6     103\n",
       "10     86\n",
       "11     73\n",
       "5      71\n",
       "     ... \n",
       "57      1\n",
       "87      1\n",
       "66      1\n",
       "69      1\n",
       "55      1\n",
       "Name: retail_price, Length: 95, dtype: int64"
      ]
     },
     "execution_count": 402,
     "metadata": {},
     "output_type": "execute_result"
    }
   ],
   "source": [
    "df['retail_price'].value_counts()"
   ]
  },
  {
   "cell_type": "code",
   "execution_count": 403,
   "id": "ebd29fd4",
   "metadata": {},
   "outputs": [
    {
     "data": {
      "text/plain": [
       "4.0    774\n",
       "5.0    171\n",
       "3.0    135\n",
       "2.0     12\n",
       "1.0      2\n",
       "Name: rating, dtype: int64"
      ]
     },
     "execution_count": 403,
     "metadata": {},
     "output_type": "execute_result"
    }
   ],
   "source": [
    "df['rating'].value_counts()\n",
    "df['rating'] = df['rating'].replace(6,5)\n",
    "df['rating'].value_counts()"
   ]
  },
  {
   "cell_type": "code",
   "execution_count": 404,
   "id": "2d678d25",
   "metadata": {},
   "outputs": [
    {
     "data": {
      "text/plain": [
       "0    621\n",
       "1    473\n",
       "Name: uses_ad_boosts, dtype: int64"
      ]
     },
     "execution_count": 404,
     "metadata": {},
     "output_type": "execute_result"
    }
   ],
   "source": [
    "df['uses_ad_boosts'].value_counts() #466 didn't use ad_boosts and 591 uses ad_boosts\n",
    "#df['uses_ad_boosts'].isnull().sum()"
   ]
  },
  {
   "cell_type": "code",
   "execution_count": 405,
   "id": "ff6f73f3",
   "metadata": {},
   "outputs": [
    {
     "data": {
      "text/plain": [
       "0    1081\n",
       "1      13\n",
       "Name: badge_fast_shipping, dtype: int64"
      ]
     },
     "execution_count": 405,
     "metadata": {},
     "output_type": "execute_result"
    }
   ],
   "source": [
    "df['badge_fast_shipping'].value_counts()"
   ]
  },
  {
   "cell_type": "code",
   "execution_count": 406,
   "id": "a8873663",
   "metadata": {},
   "outputs": [
    {
     "data": {
      "text/plain": [
       "0    1073\n",
       "1      21\n",
       "Name: badge_local_product, dtype: int64"
      ]
     },
     "execution_count": 406,
     "metadata": {},
     "output_type": "execute_result"
    }
   ],
   "source": [
    "df['badge_local_product'].value_counts()"
   ]
  },
  {
   "cell_type": "code",
   "execution_count": 407,
   "id": "2cafd725",
   "metadata": {},
   "outputs": [
    {
     "data": {
      "text/plain": [
       "0    979\n",
       "1    115\n",
       "Name: badges_count, dtype: int64"
      ]
     },
     "execution_count": 407,
     "metadata": {},
     "output_type": "execute_result"
    }
   ],
   "source": [
    "df['badges_count'].unique()\n",
    "df['badges_count'].value_counts()\n",
    "df['badges_count'] = df['badges_count'].replace([3,2],1)\n",
    "df['badges_count'].value_counts()"
   ]
  },
  {
   "cell_type": "code",
   "execution_count": 408,
   "id": "4873074f",
   "metadata": {},
   "outputs": [
    {
     "data": {
      "text/plain": [
       "Livraison standard         1047\n",
       "Standard Shipping            16\n",
       "Envio Padrão                  6\n",
       "Expediere Standard            4\n",
       "الشحن القياسي                 4\n",
       "Envío normal                  3\n",
       "Standardversand               3\n",
       "Livraison Express             3\n",
       "Standart Gönderi              2\n",
       "Standardowa wysyłka           2\n",
       "Стандартная доставка          2\n",
       "ការដឹកជញ្ជូនតាមស្តង់ដារ       1\n",
       "Spedizione standard           1\n",
       "Name: shipping_option_name, dtype: int64"
      ]
     },
     "execution_count": 408,
     "metadata": {},
     "output_type": "execute_result"
    }
   ],
   "source": [
    "df['shipping_option_name'].value_counts()# 1047 out of shipping_option_name is Livraison standard so will be dropped "
   ]
  },
  {
   "cell_type": "code",
   "execution_count": 409,
   "id": "5e054773",
   "metadata": {},
   "outputs": [
    {
     "data": {
      "text/plain": [
       "2     417\n",
       "3     370\n",
       "1     222\n",
       "4      49\n",
       "5      23\n",
       "6       8\n",
       "7       4\n",
       "12      1\n",
       "Name: shipping_option_price, dtype: int64"
      ]
     },
     "execution_count": 409,
     "metadata": {},
     "output_type": "execute_result"
    }
   ],
   "source": [
    "df['shipping_option_price'].value_counts()"
   ]
  },
  {
   "cell_type": "code",
   "execution_count": 410,
   "id": "88ddbc3c",
   "metadata": {},
   "outputs": [
    {
     "data": {
      "text/plain": [
       "0    1091\n",
       "1       3\n",
       "Name: shipping_is_express, dtype: int64"
      ]
     },
     "execution_count": 410,
     "metadata": {},
     "output_type": "execute_result"
    }
   ],
   "source": [
    "df['shipping_is_express'].value_counts()# will be dropped as 3 out of 1094 shipping is express"
   ]
  },
  {
   "cell_type": "code",
   "execution_count": 411,
   "id": "1872c7fe",
   "metadata": {},
   "outputs": [
    {
     "data": {
      "text/plain": [
       "12"
      ]
     },
     "execution_count": 411,
     "metadata": {},
     "output_type": "execute_result"
    }
   ],
   "source": [
    "df['origin_country'].value_counts()\n",
    "df['origin_country'].isnull().sum()"
   ]
  },
  {
   "cell_type": "code",
   "execution_count": 412,
   "id": "4e0c849b",
   "metadata": {},
   "outputs": [
    {
     "name": "stderr",
     "output_type": "stream",
     "text": [
      "C:\\Users\\Ahmed Mahmoud\\Anaconda3\\lib\\site-packages\\seaborn\\_decorators.py:36: FutureWarning: Pass the following variable as a keyword arg: x. From version 0.12, the only valid positional argument will be `data`, and passing other arguments without an explicit keyword will result in an error or misinterpretation.\n",
      "  warnings.warn(\n"
     ]
    },
    {
     "data": {
      "image/png": "[encoded data removed]",
      "text/plain": [
       "<Figure size 432x288 with 1 Axes>"
      ]
     },
     "metadata": {
      "needs_background": "light"
     },
     "output_type": "display_data"
    }
   ],
   "source": [
    "#plot the origin country distribution\n",
    "sns.countplot(df['origin_country'])\n",
    "plt.xticks(rotation = 45);"
   ]
  },
  {
   "cell_type": "code",
   "execution_count": 413,
   "id": "ab96e209",
   "metadata": {},
   "outputs": [
    {
     "name": "stderr",
     "output_type": "stream",
     "text": [
      "C:\\Users\\Ahmed Mahmoud\\Anaconda3\\lib\\site-packages\\seaborn\\_decorators.py:36: FutureWarning: Pass the following variable as a keyword arg: x. From version 0.12, the only valid positional argument will be `data`, and passing other arguments without an explicit keyword will result in an error or misinterpretation.\n",
      "  warnings.warn(\n"
     ]
    },
    {
     "data": {
      "image/png": "[encoded data removed]",
      "text/plain": [
       "<Figure size 432x288 with 1 Axes>"
      ]
     },
     "metadata": {
      "needs_background": "light"
     },
     "output_type": "display_data"
    }
   ],
   "source": [
    "# as china and US has the highest frequency we consider the other countries as other \n",
    "df['origin_country'] = df['origin_country'].replace([np.nan,'GB','SG','VE'], 'other')\n",
    "sns.countplot(df['origin_country'])\n",
    "plt.xticks(rotation = 45);"
   ]
  },
  {
   "cell_type": "code",
   "execution_count": 414,
   "id": "d3d3c64c",
   "metadata": {},
   "outputs": [
    {
     "data": {
      "text/plain": [
       "50    626\n",
       "1     114\n",
       "2      54\n",
       "5      51\n",
       "3      38\n",
       "10     26\n",
       "9      17\n",
       "7      15\n",
       "4      14\n",
       "6      12\n",
       "15      9\n",
       "18      9\n",
       "17      9\n",
       "20      8\n",
       "25      6\n",
       "13      6\n",
       "19      5\n",
       "49      5\n",
       "14      5\n",
       "29      4\n",
       "44      4\n",
       "11      4\n",
       "8       4\n",
       "46      4\n",
       "30      4\n",
       "45      3\n",
       "36      3\n",
       "34      3\n",
       "41      3\n",
       "47      3\n",
       "48      3\n",
       "43      2\n",
       "31      2\n",
       "26      2\n",
       "35      2\n",
       "12      2\n",
       "38      2\n",
       "40      2\n",
       "16      1\n",
       "33      1\n",
       "37      1\n",
       "28      1\n",
       "27      1\n",
       "23      1\n",
       "22      1\n",
       "21      1\n",
       "24      1\n",
       "Name: product_variation_inventory, dtype: int64"
      ]
     },
     "execution_count": 414,
     "metadata": {},
     "output_type": "execute_result"
    }
   ],
   "source": [
    "df['product_variation_inventory'].value_counts()"
   ]
  },
  {
   "cell_type": "code",
   "execution_count": 415,
   "id": "a0550e59",
   "metadata": {},
   "outputs": [
    {
     "data": {
      "text/plain": [
       "count    1094.000000\n",
       "mean       32.807130\n",
       "std        21.454655\n",
       "min         1.000000\n",
       "25%         6.000000\n",
       "50%        50.000000\n",
       "75%        50.000000\n",
       "max        50.000000\n",
       "Name: product_variation_inventory, dtype: float64"
      ]
     },
     "execution_count": 415,
     "metadata": {},
     "output_type": "execute_result"
    }
   ],
   "source": [
    "df['product_variation_inventory'].describe()\n",
    "#df['product_variation_inventory'].quantile()"
   ]
  },
  {
   "cell_type": "code",
   "execution_count": 416,
   "id": "8c1564bd",
   "metadata": {},
   "outputs": [
    {
     "name": "stderr",
     "output_type": "stream",
     "text": [
      "C:\\Users\\Ahmed Mahmoud\\Anaconda3\\lib\\site-packages\\seaborn\\_decorators.py:36: FutureWarning: Pass the following variable as a keyword arg: x. From version 0.12, the only valid positional argument will be `data`, and passing other arguments without an explicit keyword will result in an error or misinterpretation.\n",
      "  warnings.warn(\n"
     ]
    },
    {
     "data": {
      "image/png": "[encoded data removed]",
      "text/plain": [
       "<Figure size 2880x1080 with 1 Axes>"
      ]
     },
     "metadata": {
      "needs_background": "light"
     },
     "output_type": "display_data"
    }
   ],
   "source": [
    "ax, fig = plt.subplots(figsize = (40,15))\n",
    "sns.countplot(df['product_variation_size_id'], data = df, order = df['product_variation_size_id'].value_counts().index)\n",
    "plt.xticks(rotation = 45, ha = 'right');"
   ]
  },
  {
   "cell_type": "code",
   "execution_count": 417,
   "id": "1ded8472",
   "metadata": {},
   "outputs": [
    {
     "data": {
      "text/plain": [
       "S            444\n",
       "XS           248\n",
       "M            135\n",
       "XXS           76\n",
       "L             29\n",
       "S.            13\n",
       "XL            12\n",
       "XXL           11\n",
       "XXXS           5\n",
       "Size S         4\n",
       "M.             4\n",
       "XS.            4\n",
       "4XL            4\n",
       "Size-XS        4\n",
       "s              3\n",
       "Size-S         3\n",
       "10 ml          3\n",
       "2XL            3\n",
       "25             2\n",
       "Size M         2\n",
       "Size4XL        2\n",
       "35             2\n",
       "33             2\n",
       "S Pink         2\n",
       "SizeL          2\n",
       "Size -XXS      2\n",
       "2pcs           2\n",
       "SIZE XS        2\n",
       "29             2\n",
       "XXXXXL         2\n",
       "Name: product_variation_size_id, dtype: int64"
      ]
     },
     "execution_count": 417,
     "metadata": {},
     "output_type": "execute_result"
    }
   ],
   "source": [
    "pr_var = df['product_variation_size_id'].value_counts()#get the values of the product_variation_size_id column \n",
    "pr_var[pr_var > 1]"
   ]
  },
  {
   "cell_type": "code",
   "execution_count": 418,
   "id": "413d0af8",
   "metadata": {},
   "outputs": [
    {
     "data": {
      "text/plain": [
       "12"
      ]
     },
     "execution_count": 418,
     "metadata": {},
     "output_type": "execute_result"
    }
   ],
   "source": [
    "df['product_variation_size_id'].isnull().sum()"
   ]
  },
  {
   "cell_type": "code",
   "execution_count": 419,
   "id": "b16324e4",
   "metadata": {},
   "outputs": [],
   "source": [
    "df['product_variation_size_id'].replace([np.nan,'10 ml', '29','33','35','25', 'S Pink'],'other',inplace = True)\n",
    "df['product_variation_size_id'].replace(['S','XS','XXS','XXXS','XS.','S Pink', 'Size S','Size-XS','Size-S','Size -XXS','SIZE XS'],'S',inplace = True)\n",
    "df['product_variation_size_id'].replace(['M','M.','Size M'],'M',inplace = True)\n",
    "df['product_variation_size_id'].replace(['XL','XXK.','4XL','2XL'],'XL',inplace = True)\n",
    "df['product_variation_size_id'].replace(['SizeL', 'L'],'L',inplace = True)"
   ]
  },
  {
   "cell_type": "code",
   "execution_count": 420,
   "id": "17daeb63",
   "metadata": {},
   "outputs": [
    {
     "data": {
      "text/plain": [
       "0"
      ]
     },
     "execution_count": 420,
     "metadata": {},
     "output_type": "execute_result"
    }
   ],
   "source": [
    "df['product_variation_size_id'].isnull().sum()"
   ]
  },
  {
   "cell_type": "code",
   "execution_count": 421,
   "id": "f32e1724",
   "metadata": {},
   "outputs": [],
   "source": [
    "def pr_var(name):\n",
    "    if name == 'XXXS' \\\n",
    "    or name == 'XXS' \\\n",
    "    or name == 'XS' \\\n",
    "    or name == 'S' \\\n",
    "    or name == 'M' \\\n",
    "    or name == 'L' \\\n",
    "    or name == 'XL' \\\n",
    "    or name == 'XXL' \\\n",
    "    or name == 'XXXXL' \\\n",
    "    or name == 'XXXXXL':\n",
    "        return name\n",
    "    else:\n",
    "        return \"OTHER\"\n",
    "    \n",
    "df['product_variation_size_id'] = df['product_variation_size_id'].replace(np.nan, 'other')\n",
    "df['product_variation_size_id'] = df['product_variation_size_id'].apply(pr_var)"
   ]
  },
  {
   "cell_type": "code",
   "execution_count": 422,
   "id": "ab088684",
   "metadata": {},
   "outputs": [
    {
     "name": "stderr",
     "output_type": "stream",
     "text": [
      "C:\\Users\\Ahmed Mahmoud\\Anaconda3\\lib\\site-packages\\seaborn\\_decorators.py:36: FutureWarning: Pass the following variable as a keyword arg: x. From version 0.12, the only valid positional argument will be `data`, and passing other arguments without an explicit keyword will result in an error or misinterpretation.\n",
      "  warnings.warn(\n"
     ]
    },
    {
     "data": {
      "image/png": "[encoded data removed]",
      "text/plain": [
       "<Figure size 2880x1080 with 1 Axes>"
      ]
     },
     "metadata": {
      "needs_background": "light"
     },
     "output_type": "display_data"
    }
   ],
   "source": [
    "fig, ax = plt.subplots(figsize = (40,15))\n",
    "sns.countplot('product_variation_size_id', data = df, order = df['product_variation_size_id'].value_counts().index, ax = ax)\n",
    "plt.xticks(rotation = 45, ha = 'right')\n",
    "plt.show()"
   ]
  },
  {
   "cell_type": "code",
   "execution_count": 423,
   "id": "eff59f78",
   "metadata": {},
   "outputs": [
    {
     "data": {
      "text/plain": [
       "0.0    745\n",
       "1.0    349\n",
       "Name: has_urgency_banner, dtype: int64"
      ]
     },
     "execution_count": 423,
     "metadata": {},
     "output_type": "execute_result"
    }
   ],
   "source": [
    "df['has_urgency_banner'].value_counts()#fill tne nulls with 0\n",
    "df['has_urgency_banner'] = df['has_urgency_banner'].fillna(0)\n",
    "df['has_urgency_banner'].value_counts()# 349 has urgency banner and 745 doesn't"
   ]
  },
  {
   "cell_type": "code",
   "execution_count": 424,
   "id": "6cd22aa9",
   "metadata": {},
   "outputs": [],
   "source": [
    "#convert strings to integers ot deal with it\n",
    "from sklearn.preprocessing import LabelEncoder\n",
    "df['product_color'] = LabelEncoder().fit_transform(df['product_color'])\n",
    "df['product_variation_size_id'] = LabelEncoder().fit_transform(df['product_variation_size_id'])\n",
    "df['origin_country'] = LabelEncoder().fit_transform(df['origin_country'])"
   ]
  },
  {
   "cell_type": "code",
   "execution_count": 425,
   "id": "847028e5",
   "metadata": {},
   "outputs": [
    {
     "name": "stdout",
     "output_type": "stream",
     "text": [
      "<class 'pandas.core.frame.DataFrame'>\n",
      "RangeIndex: 1094 entries, 0 to 1093\n",
      "Data columns (total 34 columns):\n",
      " #   Column                        Non-Null Count  Dtype  \n",
      "---  ------                        --------------  -----  \n",
      " 0   price                         1094 non-null   float64\n",
      " 1   retail_price                  1094 non-null   int64  \n",
      " 2   currency_buyer                1094 non-null   object \n",
      " 3   units_sold                    1094 non-null   int64  \n",
      " 4   uses_ad_boosts                1094 non-null   int64  \n",
      " 5   rating                        1094 non-null   float64\n",
      " 6   rating_count                  1094 non-null   int64  \n",
      " 7   badges_count                  1094 non-null   int64  \n",
      " 8   badge_local_product           1094 non-null   int64  \n",
      " 9   badge_product_quality         1094 non-null   int64  \n",
      " 10  badge_fast_shipping           1094 non-null   int64  \n",
      " 11  tags                          1094 non-null   object \n",
      " 12  product_color                 1094 non-null   int32  \n",
      " 13  product_variation_size_id     1094 non-null   int32  \n",
      " 14  product_variation_inventory   1094 non-null   int64  \n",
      " 15  shipping_option_name          1094 non-null   object \n",
      " 16  shipping_option_price         1094 non-null   int64  \n",
      " 17  shipping_is_express           1094 non-null   int64  \n",
      " 18  countries_shipped_to          1094 non-null   int64  \n",
      " 19  inventory_total               1094 non-null   int64  \n",
      " 20  has_urgency_banner            1094 non-null   float64\n",
      " 21  urgency_text                  349 non-null    object \n",
      " 22  origin_country                1094 non-null   int32  \n",
      " 23  merchant_title                1094 non-null   object \n",
      " 24  merchant_name                 1090 non-null   object \n",
      " 25  merchant_info_subtitle        1094 non-null   object \n",
      " 26  merchant_rating_count         1094 non-null   int64  \n",
      " 27  merchant_rating               1094 non-null   float64\n",
      " 28  merchant_id                   1094 non-null   object \n",
      " 29  merchant_has_profile_picture  1094 non-null   int64  \n",
      " 30  merchant_profile_picture      170 non-null    object \n",
      " 31  theme                         1094 non-null   object \n",
      " 32  crawl_month                   1094 non-null   object \n",
      " 33  id                            1094 non-null   int64  \n",
      "dtypes: float64(4), int32(3), int64(16), object(11)\n",
      "memory usage: 277.9+ KB\n"
     ]
    }
   ],
   "source": [
    "df.info()"
   ]
  },
  {
   "cell_type": "code",
   "execution_count": 426,
   "id": "c899dc88",
   "metadata": {},
   "outputs": [],
   "source": [
    "#drop id for training data\n",
    "df = df.drop(['urgency_text','rating_count','badge_fast_shipping','badges_count','currency_buyer','merchant_id','theme','crawl_month','shipping_option_name','tags','merchant_profile_picture','merchant_has_profile_picture','merchant_title','merchant_name','merchant_info_subtitle'],axis = 1)\n",
    "df1 = df1.drop(['urgency_text','rating_count','badge_fast_shipping','badges_count','currency_buyer','merchant_id','theme','crawl_month','shipping_option_name','tags','merchant_profile_picture','merchant_has_profile_picture','merchant_title','merchant_name','merchant_info_subtitle'],axis = 1)"
   ]
  },
  {
   "cell_type": "code",
   "execution_count": 427,
   "id": "0ec5189d",
   "metadata": {},
   "outputs": [
    {
     "data": {
      "text/plain": [
       "((1094, 19), (479, 18))"
      ]
     },
     "execution_count": 427,
     "metadata": {},
     "output_type": "execute_result"
    }
   ],
   "source": [
    "df.shape,df1.shape"
   ]
  },
  {
   "cell_type": "code",
   "execution_count": 428,
   "id": "c1492c31",
   "metadata": {},
   "outputs": [],
   "source": [
    "y = df['rating'].values\n",
    "x = df.drop(['rating'], axis = 1)"
   ]
  },
  {
   "cell_type": "code",
   "execution_count": 429,
   "id": "fdf8180b",
   "metadata": {},
   "outputs": [
    {
     "data": {
      "text/html": [
       "<div>\n",
       "<style scoped>\n",
       "    .dataframe tbody tr th:only-of-type {\n",
       "        vertical-align: middle;\n",
       "    }\n",
       "\n",
       "    .dataframe tbody tr th {\n",
       "        vertical-align: top;\n",
       "    }\n",
       "\n",
       "    .dataframe thead th {\n",
       "        text-align: right;\n",
       "    }\n",
       "</style>\n",
       "<table border=\"1\" class=\"dataframe\">\n",
       "  <thead>\n",
       "    <tr style=\"text-align: right;\">\n",
       "      <th></th>\n",
       "      <th>price</th>\n",
       "      <th>retail_price</th>\n",
       "      <th>units_sold</th>\n",
       "      <th>uses_ad_boosts</th>\n",
       "      <th>badge_local_product</th>\n",
       "      <th>badge_product_quality</th>\n",
       "      <th>product_color</th>\n",
       "      <th>product_variation_size_id</th>\n",
       "      <th>product_variation_inventory</th>\n",
       "      <th>shipping_option_price</th>\n",
       "      <th>shipping_is_express</th>\n",
       "      <th>countries_shipped_to</th>\n",
       "      <th>inventory_total</th>\n",
       "      <th>has_urgency_banner</th>\n",
       "      <th>origin_country</th>\n",
       "      <th>merchant_rating_count</th>\n",
       "      <th>merchant_rating</th>\n",
       "      <th>id</th>\n",
       "    </tr>\n",
       "  </thead>\n",
       "  <tbody>\n",
       "    <tr>\n",
       "      <th>0</th>\n",
       "      <td>8.00</td>\n",
       "      <td>7</td>\n",
       "      <td>10000</td>\n",
       "      <td>1</td>\n",
       "      <td>0</td>\n",
       "      <td>0</td>\n",
       "      <td>10</td>\n",
       "      <td>1</td>\n",
       "      <td>50</td>\n",
       "      <td>3</td>\n",
       "      <td>0</td>\n",
       "      <td>30</td>\n",
       "      <td>50</td>\n",
       "      <td>0.0</td>\n",
       "      <td>0</td>\n",
       "      <td>66644</td>\n",
       "      <td>4.137582</td>\n",
       "      <td>272</td>\n",
       "    </tr>\n",
       "    <tr>\n",
       "      <th>1</th>\n",
       "      <td>8.00</td>\n",
       "      <td>7</td>\n",
       "      <td>1000</td>\n",
       "      <td>0</td>\n",
       "      <td>1</td>\n",
       "      <td>0</td>\n",
       "      <td>0</td>\n",
       "      <td>0</td>\n",
       "      <td>50</td>\n",
       "      <td>3</td>\n",
       "      <td>0</td>\n",
       "      <td>37</td>\n",
       "      <td>50</td>\n",
       "      <td>0.0</td>\n",
       "      <td>0</td>\n",
       "      <td>25752</td>\n",
       "      <td>4.256873</td>\n",
       "      <td>1515</td>\n",
       "    </tr>\n",
       "    <tr>\n",
       "      <th>2</th>\n",
       "      <td>6.00</td>\n",
       "      <td>34</td>\n",
       "      <td>100</td>\n",
       "      <td>0</td>\n",
       "      <td>0</td>\n",
       "      <td>0</td>\n",
       "      <td>9</td>\n",
       "      <td>0</td>\n",
       "      <td>50</td>\n",
       "      <td>2</td>\n",
       "      <td>0</td>\n",
       "      <td>41</td>\n",
       "      <td>50</td>\n",
       "      <td>0.0</td>\n",
       "      <td>0</td>\n",
       "      <td>3897</td>\n",
       "      <td>3.928920</td>\n",
       "      <td>940</td>\n",
       "    </tr>\n",
       "    <tr>\n",
       "      <th>3</th>\n",
       "      <td>4.67</td>\n",
       "      <td>4</td>\n",
       "      <td>100</td>\n",
       "      <td>1</td>\n",
       "      <td>0</td>\n",
       "      <td>0</td>\n",
       "      <td>1</td>\n",
       "      <td>3</td>\n",
       "      <td>5</td>\n",
       "      <td>1</td>\n",
       "      <td>0</td>\n",
       "      <td>25</td>\n",
       "      <td>50</td>\n",
       "      <td>0.0</td>\n",
       "      <td>0</td>\n",
       "      <td>7497</td>\n",
       "      <td>4.079365</td>\n",
       "      <td>309</td>\n",
       "    </tr>\n",
       "    <tr>\n",
       "      <th>4</th>\n",
       "      <td>8.00</td>\n",
       "      <td>11</td>\n",
       "      <td>1000</td>\n",
       "      <td>0</td>\n",
       "      <td>0</td>\n",
       "      <td>0</td>\n",
       "      <td>6</td>\n",
       "      <td>3</td>\n",
       "      <td>50</td>\n",
       "      <td>3</td>\n",
       "      <td>0</td>\n",
       "      <td>15</td>\n",
       "      <td>50</td>\n",
       "      <td>1.0</td>\n",
       "      <td>0</td>\n",
       "      <td>173</td>\n",
       "      <td>4.306358</td>\n",
       "      <td>226</td>\n",
       "    </tr>\n",
       "  </tbody>\n",
       "</table>\n",
       "</div>"
      ],
      "text/plain": [
       "   price  retail_price  units_sold  uses_ad_boosts  badge_local_product  \\\n",
       "0   8.00             7       10000               1                    0   \n",
       "1   8.00             7        1000               0                    1   \n",
       "2   6.00            34         100               0                    0   \n",
       "3   4.67             4         100               1                    0   \n",
       "4   8.00            11        1000               0                    0   \n",
       "\n",
       "   badge_product_quality  product_color  product_variation_size_id  \\\n",
       "0                      0             10                          1   \n",
       "1                      0              0                          0   \n",
       "2                      0              9                          0   \n",
       "3                      0              1                          3   \n",
       "4                      0              6                          3   \n",
       "\n",
       "   product_variation_inventory  shipping_option_price  shipping_is_express  \\\n",
       "0                           50                      3                    0   \n",
       "1                           50                      3                    0   \n",
       "2                           50                      2                    0   \n",
       "3                            5                      1                    0   \n",
       "4                           50                      3                    0   \n",
       "\n",
       "   countries_shipped_to  inventory_total  has_urgency_banner  origin_country  \\\n",
       "0                    30               50                 0.0               0   \n",
       "1                    37               50                 0.0               0   \n",
       "2                    41               50                 0.0               0   \n",
       "3                    25               50                 0.0               0   \n",
       "4                    15               50                 1.0               0   \n",
       "\n",
       "   merchant_rating_count  merchant_rating    id  \n",
       "0                  66644         4.137582   272  \n",
       "1                  25752         4.256873  1515  \n",
       "2                   3897         3.928920   940  \n",
       "3                   7497         4.079365   309  \n",
       "4                    173         4.306358   226  "
      ]
     },
     "execution_count": 429,
     "metadata": {},
     "output_type": "execute_result"
    }
   ],
   "source": [
    "x.head()"
   ]
  },
  {
   "cell_type": "markdown",
   "id": "e8580df9",
   "metadata": {},
   "source": [
    "## Testing data cleansing "
   ]
  },
  {
   "cell_type": "code",
   "execution_count": 430,
   "id": "8a00dd51",
   "metadata": {},
   "outputs": [
    {
     "data": {
      "text/plain": [
       "array([4., 4., 4., ..., 4., 4., 3.])"
      ]
     },
     "execution_count": 430,
     "metadata": {},
     "output_type": "execute_result"
    }
   ],
   "source": [
    "y"
   ]
  },
  {
   "cell_type": "code",
   "execution_count": 431,
   "id": "70d892da",
   "metadata": {},
   "outputs": [
    {
     "data": {
      "text/plain": [
       "price                            0\n",
       "retail_price                     0\n",
       "units_sold                       0\n",
       "uses_ad_boosts                   0\n",
       "badge_local_product              0\n",
       "badge_product_quality            0\n",
       "product_color                   12\n",
       "product_variation_size_id        2\n",
       "product_variation_inventory      0\n",
       "shipping_option_price            0\n",
       "shipping_is_express              0\n",
       "countries_shipped_to             0\n",
       "inventory_total                  0\n",
       "has_urgency_banner             355\n",
       "origin_country                   5\n",
       "merchant_rating_count            0\n",
       "merchant_rating                  0\n",
       "id                               0\n",
       "dtype: int64"
      ]
     },
     "execution_count": 431,
     "metadata": {},
     "output_type": "execute_result"
    }
   ],
   "source": [
    "df1.isnull().sum()"
   ]
  },
  {
   "cell_type": "code",
   "execution_count": 432,
   "id": "740f4372",
   "metadata": {},
   "outputs": [],
   "source": [
    "df1['has_urgency_banner'] = df1['has_urgency_banner'].fillna(0)#fill the nulls with zeros"
   ]
  },
  {
   "cell_type": "code",
   "execution_count": 433,
   "id": "498cfad0",
   "metadata": {},
   "outputs": [],
   "source": [
    "#replace the color with their base color \n",
    "df1['product_color'].replace(['lakeblue', 'black & blue', 'navyblue', 'navy', 'navyblue & white', 'navy blue', 'lightblue', 'Blue', 'pink & blue', 'skyblue', 'blue & pink', 'darkblue', 'denimblue'], 'blue', inplace = True)\n",
    "df1['product_color'].replace(['Black', 'coolblack', 'black & white'], 'black', inplace = True)\n",
    "df1['product_color'].replace(['khaki','beige', 'coffee', 'camel'], 'brown', inplace = True)\n",
    "df1['product_color'].replace(['lightgray', 'gray','lightgrey', 'coffee', 'camel', 'silver'], 'grey', inplace = True)\n",
    "df1['product_color'].replace(['brown & yellow','lightyellow', 'winered & yellow'], 'yellow', inplace = True)\n",
    "df1['product_color'].replace(['violet','winered', 'orange-red','RED','lightred', 'wine red', 'watermelonred', 'purple', 'rose'], 'red', inplace = True)\n",
    "df1['product_color'].replace(['Pink', 'Rose red', 'dustypink', 'lightpink', 'rosered'],'pink', inplace = True)\n",
    "df1['product_color'].replace(['violet', 'White', 'whitestripe', 'offwhite', 'floral', 'whitefloral'], 'white', inplace = True)\n",
    "df1['product_color'].replace(['mintgreen','black & green','armygreen', 'Army green', 'darkgreen', 'lightgreen', 'applegreen', 'light green', 'fluorescentgreen'], 'green', inplace = True)\n",
    "df1['product_color'].replace([\"army\", \"leopard\", \"leopardprint\",\"greysnakeskinprint\", 'brown & yellow','rosegold','camouflage','ivory','apricot', 'white & green', 'burgundy', 'multicolor','pink & white','white & black','white & black'\n",
    "                           \"silver\", \"tan\", \"star\", \"floral\", \"wine\", \"claret\", \"jasper\",'pink & black', \"nude\", 'rainbow', 'gold','apricot', 'apricot','blackwhite', 'black & yellow', 'pink & grey' ], 'other', inplace = True)"
   ]
  },
  {
   "cell_type": "code",
   "execution_count": 434,
   "id": "7696ec64",
   "metadata": {},
   "outputs": [],
   "source": [
    "#fill the nan and the columns that has low vlaues with other\n",
    "df1['origin_country'] = df1['origin_country'].replace([np.nan,'GB','SG','VE'], 'other')"
   ]
  },
  {
   "cell_type": "code",
   "execution_count": 435,
   "id": "65b13750",
   "metadata": {},
   "outputs": [],
   "source": [
    "#since there are alot of varaition we handeling it by gathering the look-like together and return them to the base \n",
    "df1['product_variation_size_id'].replace([np.nan,'10 ml', '29','33','35','25', 'S Pink'],'other',inplace = True)\n",
    "df1['product_variation_size_id'].replace(['S','XS','XXS','XXXS','XS.','S Pink', 'Size S','Size-XS','Size-S','Size -XXS','SIZE XS'],'S',inplace = True)\n",
    "df1['product_variation_size_id'].replace(['M','M.','Size M'],'M',inplace = True)\n",
    "df1['product_variation_size_id'].replace(['XL','XXK.','4XL','2XL'],'XL',inplace = True)\n",
    "df1['product_variation_size_id'].replace(['SizeL', 'L'],'L',inplace = True)"
   ]
  },
  {
   "cell_type": "code",
   "execution_count": 436,
   "id": "8a07504f",
   "metadata": {},
   "outputs": [],
   "source": [
    "#convert strings to integers ot deal with it\n",
    "from sklearn.preprocessing import LabelEncoder\n",
    "df1['product_color'] = LabelEncoder().fit_transform(df1['product_color'])\n",
    "df1['product_variation_size_id'] = LabelEncoder().fit_transform(df1['product_variation_size_id'])\n",
    "df1['origin_country'] = LabelEncoder().fit_transform(df1['origin_country'])"
   ]
  },
  {
   "cell_type": "code",
   "execution_count": 437,
   "id": "90dd3659",
   "metadata": {},
   "outputs": [],
   "source": [
    "#importing libraries for the models \n",
    "from sklearn.tree import DecisionTreeClassifier\n",
    "from sklearn.model_selection import GridSearchCV,train_test_split\n",
    "from sklearn.metrics import confusion_matrix,classification_report,roc_auc_score,roc_curve\n",
    "from sklearn.preprocessing import StandardScaler\n",
    "from sklearn.model_selection import cross_val_score"
   ]
  },
  {
   "cell_type": "markdown",
   "id": "acef3669",
   "metadata": {},
   "source": [
    "## Building the models\n",
    "### Desicion Tree 1st Trial"
   ]
  },
  {
   "cell_type": "code",
   "execution_count": 438,
   "id": "7a6b9812",
   "metadata": {},
   "outputs": [],
   "source": [
    "#scaling the data\n",
    "scaler = StandardScaler()\n",
    "X_train = scaler.fit_transform(x)\n",
    "X_test = scaler.transform(df1)"
   ]
  },
  {
   "cell_type": "code",
   "execution_count": 439,
   "id": "e88c2508",
   "metadata": {},
   "outputs": [
    {
     "name": "stderr",
     "output_type": "stream",
     "text": [
      "C:\\Users\\Ahmed Mahmoud\\Anaconda3\\lib\\site-packages\\sklearn\\model_selection\\_split.py:666: UserWarning: The least populated class in y has only 2 members, which is less than n_splits=5.\n",
      "  warnings.warn((\"The least populated class in y has only %d\"\n"
     ]
    },
    {
     "data": {
      "text/plain": [
       "GridSearchCV(cv=5, estimator=DecisionTreeClassifier(), n_jobs=-1,\n",
       "             param_grid={'criterion': ['gini', 'entropy'],\n",
       "                         'max_depth': range(2, 15)},\n",
       "             return_train_score=True)"
      ]
     },
     "execution_count": 439,
     "metadata": {},
     "output_type": "execute_result"
    }
   ],
   "source": [
    "#finding the optimal hyperparameters by using Grid search\n",
    "params = {\"criterion\":['gini','entropy'],\n",
    "          'max_depth': range(2,15),\n",
    "\n",
    "           }\n",
    "DTCV = GridSearchCV(DecisionTreeClassifier(), params, cv = 5, n_jobs=-1, return_train_score=True)\n",
    "DTCV.fit(X_train,y)\n",
    "DT = DTCV\n",
    "DT"
   ]
  },
  {
   "cell_type": "code",
   "execution_count": 440,
   "id": "9be56e67",
   "metadata": {},
   "outputs": [
    {
     "name": "stdout",
     "output_type": "stream",
     "text": [
      "Best score 0.7495747978718947\n",
      "Best estimator DecisionTreeClassifier(criterion='entropy', max_depth=4)\n",
      "Best parameters {'criterion': 'entropy', 'max_depth': 4}\n"
     ]
    }
   ],
   "source": [
    "print(\"Best score \" + str(DT.best_score_))\n",
    "print(\"Best estimator \" + str(DT.best_estimator_))\n",
    "print(\"Best parameters \" + str(DT.best_params_))"
   ]
  },
  {
   "cell_type": "code",
   "execution_count": 441,
   "id": "0ebd0e66",
   "metadata": {},
   "outputs": [],
   "source": [
    "clf = DecisionTreeClassifier(criterion = 'gini', max_depth = 4, min_samples_split = 2, splitter = 'best')"
   ]
  },
  {
   "cell_type": "code",
   "execution_count": 442,
   "id": "c865b6df",
   "metadata": {},
   "outputs": [
    {
     "data": {
      "text/plain": [
       "0.7842778793418648"
      ]
     },
     "execution_count": 442,
     "metadata": {},
     "output_type": "execute_result"
    }
   ],
   "source": [
    "clf.fit(x,y)\n",
    "clf.predict(df1)\n",
    "clf.score(x,y)"
   ]
  },
  {
   "cell_type": "markdown",
   "id": "fe660f27",
   "metadata": {},
   "source": [
    "## Decision Tree 2nd Trial"
   ]
  },
  {
   "cell_type": "code",
   "execution_count": 443,
   "id": "5c0c8876",
   "metadata": {},
   "outputs": [],
   "source": [
    "clf = DecisionTreeClassifier(criterion = 'gini', max_depth = 5, min_samples_split = 2, splitter = 'best')"
   ]
  },
  {
   "cell_type": "code",
   "execution_count": 444,
   "id": "ba06ff80",
   "metadata": {},
   "outputs": [
    {
     "data": {
      "text/plain": [
       "DecisionTreeClassifier(max_depth=5)"
      ]
     },
     "execution_count": 444,
     "metadata": {},
     "output_type": "execute_result"
    }
   ],
   "source": [
    "clf.fit(x,y)"
   ]
  },
  {
   "cell_type": "code",
   "execution_count": 445,
   "id": "8c3a62bf",
   "metadata": {},
   "outputs": [],
   "source": [
    "clf_pre = clf.predict(df1)"
   ]
  },
  {
   "cell_type": "code",
   "execution_count": 446,
   "id": "08b94952",
   "metadata": {},
   "outputs": [
    {
     "data": {
      "text/plain": [
       "0.803473491773309"
      ]
     },
     "execution_count": 446,
     "metadata": {},
     "output_type": "execute_result"
    }
   ],
   "source": [
    "clf.score(x,y)"
   ]
  },
  {
   "cell_type": "code",
   "execution_count": 447,
   "id": "5f0f86d3",
   "metadata": {},
   "outputs": [
    {
     "data": {
      "text/html": [
       "<div>\n",
       "<style scoped>\n",
       "    .dataframe tbody tr th:only-of-type {\n",
       "        vertical-align: middle;\n",
       "    }\n",
       "\n",
       "    .dataframe tbody tr th {\n",
       "        vertical-align: top;\n",
       "    }\n",
       "\n",
       "    .dataframe thead th {\n",
       "        text-align: right;\n",
       "    }\n",
       "</style>\n",
       "<table border=\"1\" class=\"dataframe\">\n",
       "  <thead>\n",
       "    <tr style=\"text-align: right;\">\n",
       "      <th></th>\n",
       "      <th>id</th>\n",
       "      <th>rating</th>\n",
       "    </tr>\n",
       "  </thead>\n",
       "  <tbody>\n",
       "    <tr>\n",
       "      <th>0</th>\n",
       "      <td>937</td>\n",
       "      <td>5.0</td>\n",
       "    </tr>\n",
       "    <tr>\n",
       "      <th>1</th>\n",
       "      <td>270</td>\n",
       "      <td>4.0</td>\n",
       "    </tr>\n",
       "    <tr>\n",
       "      <th>2</th>\n",
       "      <td>308</td>\n",
       "      <td>4.0</td>\n",
       "    </tr>\n",
       "    <tr>\n",
       "      <th>3</th>\n",
       "      <td>913</td>\n",
       "      <td>4.0</td>\n",
       "    </tr>\n",
       "    <tr>\n",
       "      <th>4</th>\n",
       "      <td>403</td>\n",
       "      <td>4.0</td>\n",
       "    </tr>\n",
       "  </tbody>\n",
       "</table>\n",
       "</div>"
      ],
      "text/plain": [
       "    id  rating\n",
       "0  937     5.0\n",
       "1  270     4.0\n",
       "2  308     4.0\n",
       "3  913     4.0\n",
       "4  403     4.0"
      ]
     },
     "execution_count": 447,
     "metadata": {},
     "output_type": "execute_result"
    }
   ],
   "source": [
    "''''pred_test = clf.predict(df1.loc[:, df1.columns != 'id'])\n",
    "\n",
    "pred_df = pd.DataFrame(data={'id': df1.loc[:, 'id'], 'rating': pred_test})\n",
    "\n",
    "pred_df.to_csv('Ahmed Mahmoud svm.csv', index=False)'''\n",
    "\n",
    "\n",
    "prediction = pd.DataFrame(clf_pre, columns=['rating']).to_csv('Decision_Tree.csv',index=False)\n",
    "df = pd.read_csv ('Decision_Tree.csv')\n",
    "\n",
    "test = df1\n",
    "df['id']=test['id']\n",
    "\n",
    "df_pred = df.reindex(columns=['id','rating'])\n",
    "df_pred.to_csv('Decision_Tree.csv',index=False)\n",
    "df_pred.head()"
   ]
  },
  {
   "cell_type": "markdown",
   "id": "f7e486a0",
   "metadata": {},
   "source": [
    "### SVM First Trial"
   ]
  },
  {
   "cell_type": "code",
   "execution_count": 448,
   "id": "ff0d505e",
   "metadata": {},
   "outputs": [],
   "source": [
    "from sklearn.svm import SVC\n",
    "from sklearn.model_selection import GridSearchCV,train_test_split\n",
    "from sklearn.metrics import confusion_matrix,classification_report,roc_auc_score,roc_curve\n",
    "from sklearn.feature_selection import RFE"
   ]
  },
  {
   "cell_type": "code",
   "execution_count": 449,
   "id": "9dfe93a3",
   "metadata": {},
   "outputs": [
    {
     "name": "stdout",
     "output_type": "stream",
     "text": [
      "Fitting 5 folds for each of 25 candidates, totalling 125 fits\n"
     ]
    },
    {
     "name": "stderr",
     "output_type": "stream",
     "text": [
      "C:\\Users\\Ahmed Mahmoud\\Anaconda3\\lib\\site-packages\\sklearn\\model_selection\\_split.py:666: UserWarning: The least populated class in y has only 2 members, which is less than n_splits=5.\n",
      "  warnings.warn((\"The least populated class in y has only %d\"\n"
     ]
    },
    {
     "name": "stdout",
     "output_type": "stream",
     "text": [
      "[CV 1/5] END .....................C=0.1, gamma=1, kernel=rbf; total time=   0.2s\n",
      "[CV 2/5] END .....................C=0.1, gamma=1, kernel=rbf; total time=   0.8s\n",
      "[CV 3/5] END .....................C=0.1, gamma=1, kernel=rbf; total time=   0.9s\n",
      "[CV 4/5] END .....................C=0.1, gamma=1, kernel=rbf; total time=   0.7s\n",
      "[CV 5/5] END .....................C=0.1, gamma=1, kernel=rbf; total time=   0.8s\n",
      "[CV 1/5] END ...................C=0.1, gamma=0.1, kernel=rbf; total time=   0.8s\n",
      "[CV 2/5] END ...................C=0.1, gamma=0.1, kernel=rbf; total time=   0.8s\n",
      "[CV 3/5] END ...................C=0.1, gamma=0.1, kernel=rbf; total time=   0.7s\n",
      "[CV 4/5] END ...................C=0.1, gamma=0.1, kernel=rbf; total time=   0.8s\n",
      "[CV 5/5] END ...................C=0.1, gamma=0.1, kernel=rbf; total time=   0.7s\n",
      "[CV 1/5] END ..................C=0.1, gamma=0.01, kernel=rbf; total time=   0.7s\n",
      "[CV 2/5] END ..................C=0.1, gamma=0.01, kernel=rbf; total time=   0.9s\n",
      "[CV 3/5] END ..................C=0.1, gamma=0.01, kernel=rbf; total time=   0.7s\n",
      "[CV 4/5] END ..................C=0.1, gamma=0.01, kernel=rbf; total time=   0.8s\n",
      "[CV 5/5] END ..................C=0.1, gamma=0.01, kernel=rbf; total time=   0.8s\n",
      "[CV 1/5] END .................C=0.1, gamma=0.001, kernel=rbf; total time=   0.7s\n",
      "[CV 2/5] END .................C=0.1, gamma=0.001, kernel=rbf; total time=   0.7s\n",
      "[CV 3/5] END .................C=0.1, gamma=0.001, kernel=rbf; total time=   0.3s\n",
      "[CV 4/5] END .................C=0.1, gamma=0.001, kernel=rbf; total time=   0.1s\n",
      "[CV 5/5] END .................C=0.1, gamma=0.001, kernel=rbf; total time=   0.1s\n",
      "[CV 1/5] END ................C=0.1, gamma=0.0001, kernel=rbf; total time=   0.1s\n",
      "[CV 2/5] END ................C=0.1, gamma=0.0001, kernel=rbf; total time=   0.1s\n",
      "[CV 3/5] END ................C=0.1, gamma=0.0001, kernel=rbf; total time=   0.1s\n",
      "[CV 4/5] END ................C=0.1, gamma=0.0001, kernel=rbf; total time=   0.1s\n",
      "[CV 5/5] END ................C=0.1, gamma=0.0001, kernel=rbf; total time=   0.1s\n",
      "[CV 1/5] END .......................C=1, gamma=1, kernel=rbf; total time=   0.1s\n",
      "[CV 2/5] END .......................C=1, gamma=1, kernel=rbf; total time=   0.1s\n",
      "[CV 3/5] END .......................C=1, gamma=1, kernel=rbf; total time=   0.1s\n",
      "[CV 4/5] END .......................C=1, gamma=1, kernel=rbf; total time=   0.1s\n",
      "[CV 5/5] END .......................C=1, gamma=1, kernel=rbf; total time=   0.1s\n",
      "[CV 1/5] END .....................C=1, gamma=0.1, kernel=rbf; total time=   0.1s\n",
      "[CV 2/5] END .....................C=1, gamma=0.1, kernel=rbf; total time=   0.1s\n",
      "[CV 3/5] END .....................C=1, gamma=0.1, kernel=rbf; total time=   0.1s\n",
      "[CV 4/5] END .....................C=1, gamma=0.1, kernel=rbf; total time=   0.1s\n",
      "[CV 5/5] END .....................C=1, gamma=0.1, kernel=rbf; total time=   0.1s\n",
      "[CV 1/5] END ....................C=1, gamma=0.01, kernel=rbf; total time=   0.1s\n",
      "[CV 2/5] END ....................C=1, gamma=0.01, kernel=rbf; total time=   0.1s\n",
      "[CV 3/5] END ....................C=1, gamma=0.01, kernel=rbf; total time=   0.1s\n",
      "[CV 4/5] END ....................C=1, gamma=0.01, kernel=rbf; total time=   0.1s\n",
      "[CV 5/5] END ....................C=1, gamma=0.01, kernel=rbf; total time=   0.1s\n",
      "[CV 1/5] END ...................C=1, gamma=0.001, kernel=rbf; total time=   0.1s\n",
      "[CV 2/5] END ...................C=1, gamma=0.001, kernel=rbf; total time=   0.1s\n",
      "[CV 3/5] END ...................C=1, gamma=0.001, kernel=rbf; total time=   0.1s\n",
      "[CV 4/5] END ...................C=1, gamma=0.001, kernel=rbf; total time=   0.1s\n",
      "[CV 5/5] END ...................C=1, gamma=0.001, kernel=rbf; total time=   0.1s\n",
      "[CV 1/5] END ..................C=1, gamma=0.0001, kernel=rbf; total time=   0.1s\n",
      "[CV 2/5] END ..................C=1, gamma=0.0001, kernel=rbf; total time=   0.1s\n",
      "[CV 3/5] END ..................C=1, gamma=0.0001, kernel=rbf; total time=   0.1s\n",
      "[CV 4/5] END ..................C=1, gamma=0.0001, kernel=rbf; total time=   0.1s\n",
      "[CV 5/5] END ..................C=1, gamma=0.0001, kernel=rbf; total time=   0.1s\n",
      "[CV 1/5] END ......................C=10, gamma=1, kernel=rbf; total time=   0.1s\n",
      "[CV 2/5] END ......................C=10, gamma=1, kernel=rbf; total time=   0.1s\n",
      "[CV 3/5] END ......................C=10, gamma=1, kernel=rbf; total time=   0.2s\n",
      "[CV 4/5] END ......................C=10, gamma=1, kernel=rbf; total time=   0.1s\n",
      "[CV 5/5] END ......................C=10, gamma=1, kernel=rbf; total time=   0.1s\n",
      "[CV 1/5] END ....................C=10, gamma=0.1, kernel=rbf; total time=   0.1s\n",
      "[CV 2/5] END ....................C=10, gamma=0.1, kernel=rbf; total time=   0.1s\n",
      "[CV 3/5] END ....................C=10, gamma=0.1, kernel=rbf; total time=   0.1s\n",
      "[CV 4/5] END ....................C=10, gamma=0.1, kernel=rbf; total time=   0.1s\n",
      "[CV 5/5] END ....................C=10, gamma=0.1, kernel=rbf; total time=   0.2s\n",
      "[CV 1/5] END ...................C=10, gamma=0.01, kernel=rbf; total time=   0.1s\n",
      "[CV 2/5] END ...................C=10, gamma=0.01, kernel=rbf; total time=   0.1s\n",
      "[CV 3/5] END ...................C=10, gamma=0.01, kernel=rbf; total time=   0.2s\n",
      "[CV 4/5] END ...................C=10, gamma=0.01, kernel=rbf; total time=   0.2s\n",
      "[CV 5/5] END ...................C=10, gamma=0.01, kernel=rbf; total time=   0.1s\n",
      "[CV 1/5] END ..................C=10, gamma=0.001, kernel=rbf; total time=   0.1s\n",
      "[CV 2/5] END ..................C=10, gamma=0.001, kernel=rbf; total time=   0.2s\n",
      "[CV 3/5] END ..................C=10, gamma=0.001, kernel=rbf; total time=   0.1s\n",
      "[CV 4/5] END ..................C=10, gamma=0.001, kernel=rbf; total time=   0.1s\n",
      "[CV 5/5] END ..................C=10, gamma=0.001, kernel=rbf; total time=   0.2s\n",
      "[CV 1/5] END .................C=10, gamma=0.0001, kernel=rbf; total time=   0.1s\n",
      "[CV 2/5] END .................C=10, gamma=0.0001, kernel=rbf; total time=   0.1s\n",
      "[CV 3/5] END .................C=10, gamma=0.0001, kernel=rbf; total time=   0.1s\n",
      "[CV 4/5] END .................C=10, gamma=0.0001, kernel=rbf; total time=   0.1s\n",
      "[CV 5/5] END .................C=10, gamma=0.0001, kernel=rbf; total time=   0.1s\n",
      "[CV 1/5] END .....................C=100, gamma=1, kernel=rbf; total time=   0.1s\n",
      "[CV 2/5] END .....................C=100, gamma=1, kernel=rbf; total time=   0.1s\n",
      "[CV 3/5] END .....................C=100, gamma=1, kernel=rbf; total time=   0.1s\n",
      "[CV 4/5] END .....................C=100, gamma=1, kernel=rbf; total time=   0.1s\n",
      "[CV 5/5] END .....................C=100, gamma=1, kernel=rbf; total time=   0.1s\n",
      "[CV 1/5] END ...................C=100, gamma=0.1, kernel=rbf; total time=   0.1s\n",
      "[CV 2/5] END ...................C=100, gamma=0.1, kernel=rbf; total time=   0.1s\n",
      "[CV 3/5] END ...................C=100, gamma=0.1, kernel=rbf; total time=   0.1s\n",
      "[CV 4/5] END ...................C=100, gamma=0.1, kernel=rbf; total time=   0.1s\n",
      "[CV 5/5] END ...................C=100, gamma=0.1, kernel=rbf; total time=   0.1s\n",
      "[CV 1/5] END ..................C=100, gamma=0.01, kernel=rbf; total time=   0.1s\n",
      "[CV 2/5] END ..................C=100, gamma=0.01, kernel=rbf; total time=   0.1s\n",
      "[CV 3/5] END ..................C=100, gamma=0.01, kernel=rbf; total time=   0.1s\n",
      "[CV 4/5] END ..................C=100, gamma=0.01, kernel=rbf; total time=   0.1s\n",
      "[CV 5/5] END ..................C=100, gamma=0.01, kernel=rbf; total time=   0.2s\n",
      "[CV 1/5] END .................C=100, gamma=0.001, kernel=rbf; total time=   0.2s\n",
      "[CV 2/5] END .................C=100, gamma=0.001, kernel=rbf; total time=   0.1s\n",
      "[CV 3/5] END .................C=100, gamma=0.001, kernel=rbf; total time=   0.1s\n",
      "[CV 4/5] END .................C=100, gamma=0.001, kernel=rbf; total time=   0.1s\n",
      "[CV 5/5] END .................C=100, gamma=0.001, kernel=rbf; total time=   0.2s\n",
      "[CV 1/5] END ................C=100, gamma=0.0001, kernel=rbf; total time=   0.1s\n",
      "[CV 2/5] END ................C=100, gamma=0.0001, kernel=rbf; total time=   0.1s\n",
      "[CV 3/5] END ................C=100, gamma=0.0001, kernel=rbf; total time=   0.1s\n",
      "[CV 4/5] END ................C=100, gamma=0.0001, kernel=rbf; total time=   0.1s\n",
      "[CV 5/5] END ................C=100, gamma=0.0001, kernel=rbf; total time=   0.1s\n",
      "[CV 1/5] END ....................C=1000, gamma=1, kernel=rbf; total time=   0.1s\n",
      "[CV 2/5] END ....................C=1000, gamma=1, kernel=rbf; total time=   0.1s\n",
      "[CV 3/5] END ....................C=1000, gamma=1, kernel=rbf; total time=   0.1s\n",
      "[CV 4/5] END ....................C=1000, gamma=1, kernel=rbf; total time=   0.1s\n",
      "[CV 5/5] END ....................C=1000, gamma=1, kernel=rbf; total time=   0.1s\n",
      "[CV 1/5] END ..................C=1000, gamma=0.1, kernel=rbf; total time=   0.1s\n",
      "[CV 2/5] END ..................C=1000, gamma=0.1, kernel=rbf; total time=   0.1s\n",
      "[CV 3/5] END ..................C=1000, gamma=0.1, kernel=rbf; total time=   0.1s\n",
      "[CV 4/5] END ..................C=1000, gamma=0.1, kernel=rbf; total time=   0.1s\n",
      "[CV 5/5] END ..................C=1000, gamma=0.1, kernel=rbf; total time=   0.1s\n",
      "[CV 1/5] END .................C=1000, gamma=0.01, kernel=rbf; total time=   0.2s\n",
      "[CV 2/5] END .................C=1000, gamma=0.01, kernel=rbf; total time=   0.1s\n",
      "[CV 3/5] END .................C=1000, gamma=0.01, kernel=rbf; total time=   0.1s\n",
      "[CV 4/5] END .................C=1000, gamma=0.01, kernel=rbf; total time=   0.1s\n",
      "[CV 5/5] END .................C=1000, gamma=0.01, kernel=rbf; total time=   0.1s\n",
      "[CV 1/5] END ................C=1000, gamma=0.001, kernel=rbf; total time=   0.1s\n",
      "[CV 2/5] END ................C=1000, gamma=0.001, kernel=rbf; total time=   0.1s\n",
      "[CV 3/5] END ................C=1000, gamma=0.001, kernel=rbf; total time=   0.1s\n",
      "[CV 4/5] END ................C=1000, gamma=0.001, kernel=rbf; total time=   0.1s\n",
      "[CV 5/5] END ................C=1000, gamma=0.001, kernel=rbf; total time=   0.1s\n",
      "[CV 1/5] END ...............C=1000, gamma=0.0001, kernel=rbf; total time=   0.1s\n",
      "[CV 2/5] END ...............C=1000, gamma=0.0001, kernel=rbf; total time=   0.1s\n",
      "[CV 3/5] END ...............C=1000, gamma=0.0001, kernel=rbf; total time=   0.1s\n",
      "[CV 4/5] END ...............C=1000, gamma=0.0001, kernel=rbf; total time=   0.1s\n",
      "[CV 5/5] END ...............C=1000, gamma=0.0001, kernel=rbf; total time=   0.1s\n"
     ]
    },
    {
     "data": {
      "text/plain": [
       "GridSearchCV(estimator=SVC(),\n",
       "             param_grid={'C': [0.1, 1, 10, 100, 1000],\n",
       "                         'gamma': [1, 0.1, 0.01, 0.001, 0.0001],\n",
       "                         'kernel': ['rbf']},\n",
       "             verbose=3)"
      ]
     },
     "execution_count": 449,
     "metadata": {},
     "output_type": "execute_result"
    }
   ],
   "source": [
    "param_grid = {'C': [0.1, 1, 10, 100, 1000],'gamma': [1, 0.1, 0.01, 0.001, 0.0001],'kernel': ['rbf']}\n",
    "\n",
    "grid = GridSearchCV(SVC(), param_grid, refit = True, verbose = 3)\n",
    "\n",
    "# fitting the model for grid search\n",
    "grid.fit(x, y)"
   ]
  },
  {
   "cell_type": "code",
   "execution_count": 450,
   "id": "2d05039d",
   "metadata": {},
   "outputs": [
    {
     "data": {
      "text/plain": [
       "array([4., 4., 4., 4., 4., 4., 4., 4., 4., 4., 4., 4., 4., 4., 4., 4., 4.,\n",
       "       4., 4., 4., 4., 4., 4., 4., 4., 4., 4., 4., 4., 4., 4., 4., 4., 4.,\n",
       "       4., 4., 4., 4., 4., 4., 4., 4., 4., 4., 4., 4., 4., 4., 4., 4., 4.,\n",
       "       4., 4., 4., 4., 4., 4., 4., 4., 4., 4., 4., 4., 4., 4., 4., 4., 4.,\n",
       "       4., 4., 4., 4., 4., 4., 4., 4., 4., 4., 4., 4., 4., 4., 4., 4., 4.,\n",
       "       4., 4., 4., 4., 4., 4., 4., 4., 4., 4., 4., 4., 4., 4., 4., 4., 4.,\n",
       "       4., 4., 4., 4., 4., 4., 4., 4., 4., 4., 4., 4., 4., 4., 4., 4., 4.,\n",
       "       4., 4., 4., 4., 4., 4., 4., 4., 4., 4., 4., 4., 4., 4., 4., 4., 4.,\n",
       "       4., 4., 4., 4., 4., 4., 4., 4., 4., 4., 4., 4., 4., 4., 4., 4., 4.,\n",
       "       4., 4., 4., 4., 4., 4., 4., 4., 4., 4., 4., 4., 4., 4., 4., 4., 4.,\n",
       "       4., 4., 4., 4., 4., 4., 4., 4., 4., 4., 4., 4., 4., 4., 4., 4., 4.,\n",
       "       4., 4., 4., 4., 4., 4., 4., 4., 4., 4., 4., 4., 4., 4., 4., 4., 4.,\n",
       "       4., 4., 4., 4., 4., 4., 4., 4., 4., 4., 4., 4., 4., 4., 4., 4., 4.,\n",
       "       4., 4., 4., 4., 4., 4., 4., 4., 4., 4., 4., 4., 4., 4., 4., 4., 4.,\n",
       "       4., 4., 4., 4., 4., 4., 4., 4., 4., 4., 4., 4., 4., 4., 4., 4., 4.,\n",
       "       4., 4., 4., 4., 4., 4., 4., 4., 4., 4., 4., 4., 4., 4., 4., 4., 4.,\n",
       "       4., 4., 4., 4., 4., 4., 4., 4., 4., 4., 4., 4., 4., 4., 4., 4., 4.,\n",
       "       4., 4., 4., 4., 4., 4., 4., 4., 4., 4., 4., 4., 4., 4., 4., 4., 4.,\n",
       "       4., 4., 4., 4., 4., 4., 4., 4., 4., 4., 4., 4., 4., 4., 4., 4., 4.,\n",
       "       4., 4., 4., 4., 4., 4., 4., 4., 4., 4., 4., 4., 4., 4., 4., 4., 4.,\n",
       "       4., 4., 4., 4., 4., 4., 4., 4., 4., 4., 4., 4., 4., 4., 4., 4., 4.,\n",
       "       4., 4., 4., 4., 4., 4., 4., 4., 4., 4., 4., 4., 4., 4., 4., 4., 4.,\n",
       "       4., 4., 4., 4., 4., 4., 4., 4., 4., 4., 4., 4., 4., 4., 4., 4., 4.,\n",
       "       4., 4., 4., 4., 4., 4., 4., 4., 4., 4., 4., 4., 4., 4., 4., 4., 4.,\n",
       "       4., 4., 4., 4., 4., 4., 4., 4., 4., 4., 4., 4., 4., 4., 4., 4., 4.,\n",
       "       4., 4., 4., 4., 4., 4., 4., 4., 4., 4., 4., 4., 4., 4., 4., 4., 4.,\n",
       "       4., 4., 4., 4., 4., 4., 4., 4., 4., 4., 4., 4., 4., 4., 4., 4., 4.,\n",
       "       4., 4., 4., 4., 4., 4., 4., 4., 4., 4., 4., 4., 4., 4., 4., 4., 4.,\n",
       "       4., 4., 4.])"
      ]
     },
     "execution_count": 450,
     "metadata": {},
     "output_type": "execute_result"
    }
   ],
   "source": [
    "grid.predict(df1)"
   ]
  },
  {
   "cell_type": "code",
   "execution_count": 451,
   "id": "d73fa847",
   "metadata": {},
   "outputs": [
    {
     "data": {
      "text/plain": [
       "0.7074954296160878"
      ]
     },
     "execution_count": 451,
     "metadata": {},
     "output_type": "execute_result"
    }
   ],
   "source": [
    "grid.score(x,y)"
   ]
  },
  {
   "cell_type": "markdown",
   "id": "0d44e7b9",
   "metadata": {},
   "source": [
    "## SVM 2nd Trial"
   ]
  },
  {
   "cell_type": "code",
   "execution_count": 452,
   "id": "dff977ac",
   "metadata": {},
   "outputs": [
    {
     "data": {
      "text/plain": [
       "SVC(C=0.001, gamma=0.1)"
      ]
     },
     "execution_count": 452,
     "metadata": {},
     "output_type": "execute_result"
    }
   ],
   "source": [
    "clf_svm = SVC(C =  0.001, gamma = 0.1, kernel = 'rbf')#building a svm model\n",
    "clf_svm.fit(x,y)"
   ]
  },
  {
   "cell_type": "code",
   "execution_count": 453,
   "id": "415ac315",
   "metadata": {},
   "outputs": [
    {
     "data": {
      "text/plain": [
       "array([4., 4., 4., 4., 4., 4., 4., 4., 4., 4., 4., 4., 4., 4., 4., 4., 4.,\n",
       "       4., 4., 4., 4., 4., 4., 4., 4., 4., 4., 4., 4., 4., 4., 4., 4., 4.,\n",
       "       4., 4., 4., 4., 4., 4., 4., 4., 4., 4., 4., 4., 4., 4., 4., 4., 4.,\n",
       "       4., 4., 4., 4., 4., 4., 4., 4., 4., 4., 4., 4., 4., 4., 4., 4., 4.,\n",
       "       4., 4., 4., 4., 4., 4., 4., 4., 4., 4., 4., 4., 4., 4., 4., 4., 4.,\n",
       "       4., 4., 4., 4., 4., 4., 4., 4., 4., 4., 4., 4., 4., 4., 4., 4., 4.,\n",
       "       4., 4., 4., 4., 4., 4., 4., 4., 4., 4., 4., 4., 4., 4., 4., 4., 4.,\n",
       "       4., 4., 4., 4., 4., 4., 4., 4., 4., 4., 4., 4., 4., 4., 4., 4., 4.,\n",
       "       4., 4., 4., 4., 4., 4., 4., 4., 4., 4., 4., 4., 4., 4., 4., 4., 4.,\n",
       "       4., 4., 4., 4., 4., 4., 4., 4., 4., 4., 4., 4., 4., 4., 4., 4., 4.,\n",
       "       4., 4., 4., 4., 4., 4., 4., 4., 4., 4., 4., 4., 4., 4., 4., 4., 4.,\n",
       "       4., 4., 4., 4., 4., 4., 4., 4., 4., 4., 4., 4., 4., 4., 4., 4., 4.,\n",
       "       4., 4., 4., 4., 4., 4., 4., 4., 4., 4., 4., 4., 4., 4., 4., 4., 4.,\n",
       "       4., 4., 4., 4., 4., 4., 4., 4., 4., 4., 4., 4., 4., 4., 4., 4., 4.,\n",
       "       4., 4., 4., 4., 4., 4., 4., 4., 4., 4., 4., 4., 4., 4., 4., 4., 4.,\n",
       "       4., 4., 4., 4., 4., 4., 4., 4., 4., 4., 4., 4., 4., 4., 4., 4., 4.,\n",
       "       4., 4., 4., 4., 4., 4., 4., 4., 4., 4., 4., 4., 4., 4., 4., 4., 4.,\n",
       "       4., 4., 4., 4., 4., 4., 4., 4., 4., 4., 4., 4., 4., 4., 4., 4., 4.,\n",
       "       4., 4., 4., 4., 4., 4., 4., 4., 4., 4., 4., 4., 4., 4., 4., 4., 4.,\n",
       "       4., 4., 4., 4., 4., 4., 4., 4., 4., 4., 4., 4., 4., 4., 4., 4., 4.,\n",
       "       4., 4., 4., 4., 4., 4., 4., 4., 4., 4., 4., 4., 4., 4., 4., 4., 4.,\n",
       "       4., 4., 4., 4., 4., 4., 4., 4., 4., 4., 4., 4., 4., 4., 4., 4., 4.,\n",
       "       4., 4., 4., 4., 4., 4., 4., 4., 4., 4., 4., 4., 4., 4., 4., 4., 4.,\n",
       "       4., 4., 4., 4., 4., 4., 4., 4., 4., 4., 4., 4., 4., 4., 4., 4., 4.,\n",
       "       4., 4., 4., 4., 4., 4., 4., 4., 4., 4., 4., 4., 4., 4., 4., 4., 4.,\n",
       "       4., 4., 4., 4., 4., 4., 4., 4., 4., 4., 4., 4., 4., 4., 4., 4., 4.,\n",
       "       4., 4., 4., 4., 4., 4., 4., 4., 4., 4., 4., 4., 4., 4., 4., 4., 4.,\n",
       "       4., 4., 4., 4., 4., 4., 4., 4., 4., 4., 4., 4., 4., 4., 4., 4., 4.,\n",
       "       4., 4., 4.])"
      ]
     },
     "execution_count": 453,
     "metadata": {},
     "output_type": "execute_result"
    }
   ],
   "source": [
    "clf_svm.predict(df1)"
   ]
  },
  {
   "cell_type": "code",
   "execution_count": 456,
   "id": "73beea74",
   "metadata": {},
   "outputs": [
    {
     "data": {
      "text/plain": [
       "0.7074954296160878"
      ]
     },
     "execution_count": 456,
     "metadata": {},
     "output_type": "execute_result"
    }
   ],
   "source": [
    "clf_svm.score(x,y)"
   ]
  },
  {
   "cell_type": "markdown",
   "id": "4c562104",
   "metadata": {},
   "source": [
    "### Naive Bayies"
   ]
  },
  {
   "cell_type": "code",
   "execution_count": null,
   "id": "7beba48c",
   "metadata": {},
   "outputs": [],
   "source": [
    "from sklearn.naive_bayes import GaussianNB,MultinomialNB\n",
    "NB=GaussianNB()\n",
    "NB.fit(x, y)\n",
    "y_test_pred = NB.predict(df1)"
   ]
  },
  {
   "cell_type": "code",
   "execution_count": null,
   "id": "35f5e0fa",
   "metadata": {},
   "outputs": [],
   "source": [
    "y_test_pred"
   ]
  },
  {
   "cell_type": "code",
   "execution_count": null,
   "id": "9d98a65f",
   "metadata": {},
   "outputs": [],
   "source": [
    "NB.score(x,y)"
   ]
  },
  {
   "cell_type": "markdown",
   "id": "ffe804ae",
   "metadata": {},
   "source": [
    "## Random Forest 1st Trial"
   ]
  },
  {
   "cell_type": "code",
   "execution_count": null,
   "id": "57bcc77b",
   "metadata": {},
   "outputs": [],
   "source": [
    "from sklearn.ensemble import RandomForestClassifier\n",
    "from sklearn.model_selection import KFold"
   ]
  },
  {
   "cell_type": "code",
   "execution_count": null,
   "id": "8e69ff90",
   "metadata": {},
   "outputs": [],
   "source": [
    "RF_clf = RandomForestClassifier(random_state=3)\n",
    "RF_clf.fit(x,y)\n",
    "RF_clf.predict(df1)"
   ]
  },
  {
   "cell_type": "code",
   "execution_count": null,
   "id": "13eb1e2d",
   "metadata": {},
   "outputs": [],
   "source": [
    "RF_clf.score(x,y)"
   ]
  },
  {
   "cell_type": "code",
   "execution_count": null,
   "id": "407bb66d",
   "metadata": {},
   "outputs": [],
   "source": [
    "pred_test = RF_clf.predict(df1.loc[:, df1.columns != 'id'])\n",
    "\n",
    "pred_df = pd.DataFrame(data={'id': df1.loc[:, 'id'], 'rating': pred_test})\n",
    "\n",
    "pred_df.to_csv('Ahmed Mahmoud RF.csv', index=False)"
   ]
  },
  {
   "cell_type": "markdown",
   "id": "980ff68b",
   "metadata": {},
   "source": [
    "## Random Forest 2nd Trial"
   ]
  },
  {
   "cell_type": "code",
   "execution_count": null,
   "id": "5612414d",
   "metadata": {},
   "outputs": [],
   "source": [
    "RF_clf = RandomForestClassifier(random_state=3,criterion='gini', max_depth=None, min_samples_split=4)\n",
    "RF_clf.fit(x,y)\n",
    "RF_clf.predict(df1)"
   ]
  },
  {
   "cell_type": "code",
   "execution_count": null,
   "id": "cdaef60d",
   "metadata": {},
   "outputs": [],
   "source": [
    "RF_clf.score(x,y)"
   ]
  },
  {
   "cell_type": "markdown",
   "id": "15a9f0d6",
   "metadata": {},
   "source": [
    "# Questions"
   ]
  },
  {
   "cell_type": "markdown",
   "id": "c93d0f67",
   "metadata": {},
   "source": [
    "##  1-Why Data Mining is a misnomer? What is another preferred name?\n",
    "- The preferred name is Knowledge discovery in database\n",
    "- Data mining is wrong because we need to extract knowledge from data not extract data itself."
   ]
  },
  {
   "cell_type": "markdown",
   "id": "ba78405b",
   "metadata": {},
   "source": [
    "## 2-What is the general knowledge discovery process? What is the difference between a data engineer and data scientist/AI engineer?\n",
    "- The KDD process is an iterative process that consists in the selection, cleaning and transformation of data coming not only from databases but also from other heterogeneous sources, such as plain text, data warehouses, images, sound, aimed to apply to them data mining algorithms in order to discover valid, novel, potentially useful, and understandable hidden patterns.\n",
    "\n",
    "- While data engineers are focused on building and maintaining data infrastructures, data scientists tackle the data and interpret them. Data scientists are focused on advanced mathematics and statistical analysis on that generated data."
   ]
  },
  {
   "cell_type": "markdown",
   "id": "2b352641",
   "metadata": {},
   "source": [
    "## 3-In data mining, what is the difference between prediction and categorization?\n",
    "- Categorization is the process of identifying the category or class label of the new observation to which it belongs. Predication is the process of identifying the missing or unavailable numerical data for a new observation."
   ]
  },
  {
   "cell_type": "markdown",
   "id": "abd51141",
   "metadata": {},
   "source": [
    "## 4-Why data science/machine learning is a bad idea in the context of information security?\n",
    "- Because they collect our data all the time. And if the security of system is failed the data will be available to collect and use from data scintest."
   ]
  },
  {
   "cell_type": "markdown",
   "id": "c3a91d6c",
   "metadata": {},
   "source": [
    "## 5-What is CIA principle and how can we use it to access the security/privacy aspect of the AI system/pipelines?\n",
    "- Confidentiality, Integerity and Availability\n",
    "\n",
    "- Confidentiality measures are designed to prevent sensitive information from unauthorized access attempts. It is common for data to be categorized according to the amount and type of damage that could be done if it fell into the wrong hands.\n",
    "\n",
    "- Integrity involves maintaining the consistency, accuracy and trustworthiness of data over its entire lifecycle. Data must not be changed in transit, and steps must be taken to ensure data cannot be altered by unauthorized people.\n",
    "\n",
    "- Availability means information should be consistently and readily accessible for authorized parties. This involves properly maintaining hardware and technical infrastructure and systems that hold and display the information.\n",
    "\n",
    "- If you can protect all three, you’ve got security covered."
   ]
  },
  {
   "cell_type": "markdown",
   "id": "909c7128",
   "metadata": {},
   "source": [
    "## 1- Problem Formulation\n",
    "\n",
    "###  Define the problem  ?\n",
    "The problem is to creat a model that can predict the rating of the products before selling it to the customers to know how they will react about it so we could increase the returned profit, we have some data collecting from multible resources and this data have some noise and outlier, we need to clean this data to sure that model can correctly predict the rating of the product before the client do that.\n",
    "\n",
    "###  What is the input ? \n",
    "We have 32 feature some of them information about product and other is information about merchant from wish.com, there are some unimportant information we will drop them.\n",
    "\n",
    "###  What is the output?\n",
    "Rating of the products.\n",
    "\n",
    "###  What data mining function is required ?\n",
    "The model is classification model. Classification is a predictive mining function. A classification model uses historical data to predict a categorical target.\n",
    "###  What could be the challenges ?\n",
    "The challenges are implementing effective preprocessing measures and selecting features that optimize our prediction.\n",
    "\n",
    "###  What is the impact ?\n",
    "The impact is to obtain the rating to predict and classify the right rating for each model so we could increase the returned profit.\n",
    "\n",
    "###  What is an ideal solution ?\n",
    "The ideal solution is build model that can predict the rating without any mistakes with 100% accuracy. Making appropriate preprocessing on the dataset and take the columns that will help the model to predict the right rating. And ofcourse choosing the best model to do the job."
   ]
  },
  {
   "cell_type": "code",
   "execution_count": null,
   "id": "6e616750",
   "metadata": {},
   "outputs": [],
   "source": []
  }
 ],
 "metadata": {
  "hide_input": false,
  "kernelspec": {
   "display_name": "Python 3",
   "language": "python",
   "name": "python3"
  },
  "language_info": {
   "codemirror_mode": {
    "name": "ipython",
    "version": 3
   },
   "file_extension": ".py",
   "mimetype": "text/x-python",
   "name": "python",
   "nbconvert_exporter": "python",
   "pygments_lexer": "ipython3",
   "version": "3.8.8"
  }
 },
 "nbformat": 4,
 "nbformat_minor": 5
}
